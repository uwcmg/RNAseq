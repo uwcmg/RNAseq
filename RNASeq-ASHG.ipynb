{
 "cells": [
  {
   "cell_type": "markdown",
   "metadata": {},
   "source": [
    "# The notebook is a local instance of RNA-seq workshop @ ASHG for Jupyter \n",
    "## to be run locally with GRC local mounts within network (secure)\n",
    "A hands-on rare disease diagnostic workshop on RNA-seq data #ASHG20\n",
    "\n",
    "The accompanying presentation can be found here: tinyurl.com/RNA-ASHG-presentation.\n",
    "\n",
    "GRC jupyter server: krakatoa.grid.gs.washington.edu:47897\n",
    "\n",
    "use tunnel: ssh -L 127.0.0.1:47897:krakatoa.grid.gs.washington.edu:47897 nexus.gs.washingon.edu\n",
    "\n",
    "open browser to 127.0.0.1:47897\n",
    "\n",
    "password: bay4\n"
   ]
  },
  {
   "cell_type": "code",
   "execution_count": 1,
   "metadata": {},
   "outputs": [],
   "source": [
    "#Use R\n",
    "IRkernel::installspec()"
   ]
  },
  {
   "cell_type": "markdown",
   "metadata": {},
   "source": [
    "# check the environment that this notebook is using:"
   ]
  },
  {
   "cell_type": "code",
   "execution_count": 2,
   "metadata": {
    "scrolled": true
   },
   "outputs": [
    {
     "data": {
      "text/plain": [
       "_LMFILES_               /usr/share/Modules/modulefiles/modules:/usr/share/Modules/modulefiles/modules-init:/usr/share/Modules/modulefiles/modules-gs/prod:/net/gs/vol3/software/modules-repo/CentOS7/python/3.6.5:/net/gs/vol3/software/modules-repo/python/3.6.5/CentOS7/numpy/1.15.1:/net/gs/vol3/software/modules-repo/python/3.6.5/CentOS7/pandas/1.3.1:/net/gs/vol3/software/modules-repo/python/3.6.5/CentOS7/scipy/1.1.0:/net/gs/vol3/software/modules-repo/python/3.6.5/CentOS7/scikit-learn/0.23.1\n",
       "ANALYSISDIR             /net/grc/vol6/mendelian_projects/mendelian_analysis/mcgold/\n",
       "ARCHPATH                Linux/CentOS7/x86_64\n",
       "BASH_FUNC_module()      () { eval `/usr/bin/modulecmd bash $*` }\n",
       "CLINVAR_FILE            /net/grc/vol6/mendelian_projects/mendelian_analysis/uwcmg_reanalysis_support_files/annotation/ClinVar_current.vcf.gz\n",
       "CLINVAR_GIP_FILE        /net/grc/vol6/mendelian_projects/mendelian_analysis/uwcmg_reanalysis_support_files/annotation/ClinVar_geneIntervalPhenotypes_latest.bed.gz\n",
       "CLOUDSDK_PYTHON         /net/gs/vol3/software/modules-sw/python/2.7.11/Linux/RHEL6/x86_64/bin/python\n",
       "CONIFERDIR              /net/grc/vol1/mendelian_projects/mendelian_analysis/CoNIFER/\n",
       "CPPFLAGS                -I/net/gs/vol3/software/modules-sw/python/3.6.5/Linux/CentOS7/x86_64/include/python3.6\n",
       "                        -I/net/gs/vol3/software/modules-sw/python/3.6.5/Linux/CentOS7/x86_64/include/\n",
       "EDITOR                  vi\n",
       "GENO2MP_FILE            /net/grc/vol6/mendelian_projects/mendelian_analysis/references/sys_error/2018_jan/Geno2MP.variants.vcf.gz\n",
       "GNOMAD_FILE             /net/grc/vol6/mendelian_projects/mendelian_analysis/references/gnomad/web/macarthurlab-distribution/gnomAD/release-170228/genomes/vcf/gnomad.genomes.r2.0.1.sites.all_chr.maxAAF.vcf.gz\n",
       "GRC_DEV_ENVIRONMENT     0\n",
       "GSSW                    /net/gs/vol3/software\n",
       "HISTCONTROL             ignoredups\n",
       "HISTSIZE                1000\n",
       "HOME                    /nfs/home/mcgold\n",
       "HOSTNAME                krakatoa.grid.gs.washington.edu\n",
       "HUMANBUNDLE             /net/grc/vol6/references/human/grc38/genome/STAR/100bp/gencodev26/bundle\n",
       "INDEL_ART_FILE          /net/grc/vol6/mendelian_projects/mendelian_analysis/references/indel_artifacts/uwcmg_multisample.indels.noGT.jointCalled.filtered.with_indel_counts.vcf.gz\n",
       "JPY_PARENT_PID          11610\n",
       "LANG                    en_US.UTF-8\n",
       "LD_LIBRARY_PATH         /net/gs/vol3/software/modules-sw/R/4.0.3/Linux/CentOS7/x86_64/lib64/R/lib:/usr/local/lib64:/usr/lib/jvm/java-14-openjdk-14.0.2.12-1.rolling.el7.x86_64/lib/server:/net/gs/vol3/software/modules-sw/python/3.6.5/Linux/CentOS7/x86_64/lib/:/nfs/home/mcgold/bin/lib64:\n",
       "LDFLAGS                 -L/net/gs/vol3/software/modules-sw/python/3.6.5/Linux/CentOS7/x86_64/lib/\n",
       "LESSOPEN                ||/usr/bin/lesspipe.sh %s\n",
       "LN_S                    ln -s\n",
       "LOADEDMODULES           modules:modules-init:modules-gs/prod:python/3.6.5:numpy/1.15.1:pandas/1.3.1:scipy/1.1.0:scikit-learn/0.23.1\n",
       "LOGNAME                 mcgold\n",
       "LS_COLORS               rs=0:di=38;5;27:ln=38;5;51:mh=44;38;5;15:pi=40;38;5;11:so=38;5;13:do=38;5;5:bd=48;5;232;38;5;11:cd=48;5;232;38;5;3:or=48;5;232;38;5;9:mi=05;48;5;232;38;5;15:su=48;5;196;38;5;15:sg=48;5;11;38;5;16:ca=48;5;196;38;5;226:tw=48;5;10;38;5;16:ow=48;5;10;38;5;21:st=48;5;21;38;5;15:ex=38;5;34:*.tar=38;5;9:*.tgz=38;5;9:*.arc=38;5;9:*.arj=38;5;9:*.taz=38;5;9:*.lha=38;5;9:*.lz4=38;5;9:*.lzh=38;5;9:*.lzma=38;5;9:*.tlz=38;5;9:*.txz=38;5;9:*.tzo=38;5;9:*.t7z=38;5;9:*.zip=38;5;9:*.z=38;5;9:*.Z=38;5;9:*.dz=38;5;9:*.gz=38;5;9:*.lrz=38;5;9:*.lz=38;5;9:*.lzo=38;5;9:*.xz=38;5;9:*.bz2=38;5;9:*.bz=38;5;9:*.tbz=38;5;9:*.tbz2=38;5;9:*.tz=38;5;9:*.deb=38;5;9:*.rpm=38;5;9:*.jar=38;5;9:*.war=38;5;9:*.ear=38;5;9:*.sar=38;5;9:*.rar=38;5;9:*.alz=38;5;9:*.ace=38;5;9:*.zoo=38;5;9:*.cpio=38;5;9:*.7z=38;5;9:*.rz=38;5;9:*.cab=38;5;9:*.jpg=38;5;13:*.jpeg=38;5;13:*.gif=38;5;13:*.bmp=38;5;13:*.pbm=38;5;13:*.pgm=38;5;13:*.ppm=38;5;13:*.tga=38;5;13:*.xbm=38;5;13:*.xpm=38;5;13:*.tif=38;5;13:*.tiff=38;5;13:*.png=38;5;13:*.svg=38;5;13:*.svgz=38;5;13:*.mng=38;5;13:*.pcx=38;5;13:*.mov=38;5;13:*.mpg=38;5;13:*.mpeg=38;5;13:*.m2v=38;5;13:*.mkv=38;5;13:*.webm=38;5;13:*.ogm=38;5;13:*.mp4=38;5;13:*.m4v=38;5;13:*.mp4v=38;5;13:*.vob=38;5;13:*.qt=38;5;13:*.nuv=38;5;13:*.wmv=38;5;13:*.asf=38;5;13:*.rm=38;5;13:*.rmvb=38;5;13:*.flc=38;5;13:*.avi=38;5;13:*.fli=38;5;13:*.flv=38;5;13:*.gl=38;5;13:*.dl=38;5;13:*.xcf=38;5;13:*.xwd=38;5;13:*.yuv=38;5;13:*.cgm=38;5;13:*.emf=38;5;13:*.axv=38;5;13:*.anx=38;5;13:*.ogv=38;5;13:*.ogx=38;5;13:*.aac=38;5;45:*.au=38;5;45:*.flac=38;5;45:*.mid=38;5;45:*.midi=38;5;45:*.mka=38;5;45:*.mp3=38;5;45:*.mpc=38;5;45:*.ogg=38;5;45:*.ra=38;5;45:*.wav=38;5;45:*.axa=38;5;45:*.oga=38;5;45:*.spx=38;5;45:*.xspf=38;5;45:\n",
       "MAIL                    /var/spool/mail/mcgold\n",
       "MAKE                    make\n",
       "MANPATH                 /net/gs/vol3/software/modules-sw/python/3.6.5/Linux/CentOS7/x86_64/share/man:/usr/share/Modules/share/man:/opt/sge/man::/opt/puppetlabs/puppet/share/man\n",
       "MOD_GSPYTHON_DIR        /net/gs/vol3/software/modules-sw/python/3.6.5/Linux/CentOS7/x86_64\n",
       "MOD_GSPYTHON_VERSION_SHORT\n",
       "                        3.6\n",
       "MOD_GSSW                /net/gs/vol3/software/modules-sw\n",
       "MOD_LAB                 GS\n",
       "MODULEPATH              /net/gs/vol3/software/modules-repo/python/3.6.5/CentOS7:/usr/share/Modules/modulefiles:/etc/modulefiles:/net/gs/vol3/software/modules-repo/CentOS7\n",
       "MODULES_MACH            x86_64\n",
       "MODULES_OS              Linux\n",
       "MODULES_REL             CentOS7\n",
       "MODULESHOME             /usr/share/Modules\n",
       "MOUSEBUNDLE             /net/grc/vol6/references/mouse/MM10/genome/STAR/100bp/gencodevM11/bundle\n",
       "NCBI_VDB_LIBDIR         /nfs/home/mcgold/bin/lib64\n",
       "PAGER                   /usr/bin/less\n",
       "PATH                    /net/gs/vol3/software/modules-sw/python/3.6.5/Linux/CentOS7/x86_64/bin:/net/gs/vol3/software/modules-sw-python/3.6.5/pandas/1.3.1/Linux/CentOS7/x86_64/bin:/net/gs/vol3/software/modules-sw-python/3.6.5/numpy/1.15.1/Linux/CentOS7/x86_64/bin:/net/gs/vol3/software/modules-sw/python/3.6.5/Linux/CentOS7/x86_64/bin/:/nfs/home/mcgold/perl5/bin:/usr/share/Modules/bin:/opt/sge/bin/lx-amd64:/opt/sge/local:/usr/local/bin:/usr/bin:/usr/local/sbin:/usr/sbin:/usr/lpp/mmfs/bin:/opt/puppetlabs/bin:/opt/dell/srvadmin/bin:/nfs/home/mcgold/bin:/nfs/home/mcgold/.local/bin:/nfs/home/mcgold/bin/google-cloud-sdk/bin:/nfs/home/mcgold/bin/ucsc_utils:/nfs/home/mcgold/Qt/5.6/gcc_64/bin:/nfs/home/mcgold/bin/mongodb/mongodb-linux-x86_64-3.2.8/bin:/nfs/home/mcgold/bin/pigz-2.3.4/:/nfs/home/mcgold/bin/weblogo:/nfs/home/mcgold/bin/homer/bin:/nfs/home/mcgold/bin/deepTools/bin:/nfs/home/mcgold/bin/tigervnc-1.9.0.x86_64/usr/bin/:/nfs/home/mcgold/bin/circos-0.69-6/bin:/nfs/home/mcgold/bin/mongodb-linux-x86_64-rhel62-4.0.2/bin:/nfs/home/mcgold/bin/staden-io_lib/progs:/nfs/home/mcgold/bin/pgsql/bin:/nfs/home/mcgold/bin/razorsql/:/nfs/home/mcgold/altera/13.0sp1/quartus/bin:/nfs/home/mcgold/bin/qdirstat/src/:/nfs/home/mcgold/bin:/nfs/home/mcgold/bin/ucsc_utils:/nfs/home/mcgold/bin/mongodb/mongodb-linux-x86_64-3.2.8/bin:/nfs/home/mcgold/bin/google-cloud-sdk/bin:/nfs/home/mcgold/bin/pigz-2.3.4:/nfs/home/mcgold/bin/weblogo\n",
       "PERL5LIB                :/nfs/home/mcgold/bin/PRIMUS_v1.8.0/lib/perl_modules\n",
       "PLATFORM                centos\n",
       "PROJECTDIR              /net/grc/vol6/mendelian_projects/\n",
       "PWD                     /nfs/home/mcgold/notebooks\n",
       "PYTHON_PREFIX           /net/gs/vol3/software/modules-sw-python/3.6.5\n",
       "PYTHONPATH              /net/gs/vol3/software/modules-sw-python/3.6.5/scikit-learn/0.23.1/Linux/CentOS7/x86_64/lib/python3.6/site-packages:/net/gs/vol3/software/modules-sw-python/3.6.5/scipy/1.1.0/Linux/CentOS7/x86_64/lib/python3.6/site-packages:/net/gs/vol3/software/modules-sw-python/3.6.5/pandas/1.3.1/Linux/CentOS7/x86_64/lib/python3.6/site-packages:/net/gs/vol3/software/modules-sw-python/3.6.5/numpy/1.15.1/Linux/CentOS7/x86_64/lib/python3.6/site-packages:/net/gs/vol3/software/modules-sw/python/3.6.5/Linux/CentOS7/x86_64/lib/python3.6/site-packages/\n",
       "QT_GRAPHICSSYSTEM_CHECKED\n",
       "                        1\n",
       "R_ARCH                  \n",
       "R_BROWSER               /usr/bin/firefox\n",
       "R_BZIPCMD               /usr/bin/bzip2\n",
       "R_DOC_DIR               /net/gs/vol3/software/modules-sw/R/4.0.3/Linux/CentOS7/x86_64/lib64/R/doc\n",
       "R_GZIPCMD               /usr/bin/gzip\n",
       "R_HOME                  /net/gs/vol3/software/modules-sw/R/4.0.3/Linux/CentOS7/x86_64/lib64/R\n",
       "R_INCLUDE_DIR           /net/gs/vol3/software/modules-sw/R/4.0.3/Linux/CentOS7/x86_64/lib64/R/include\n",
       "R_LIBS_SITE             \n",
       "R_LIBS_USER             ~/R/x86_64-pc-linux-gnu-library/4.0\n",
       "R_PAPERSIZE             a4\n",
       "R_PDFVIEWER             /usr/bin/xdg-open\n",
       "R_PLATFORM              x86_64-pc-linux-gnu\n",
       "R_PRINTCMD              lpr\n",
       "R_RD4PDF                times,hyper\n",
       "R_SESSION_TMPDIR        /tmp/RtmpTlvwQx\n",
       "R_SHARE_DIR             /net/gs/vol3/software/modules-sw/R/4.0.3/Linux/CentOS7/x86_64/lib64/R/share\n",
       "R_STRIP_SHARED_LIB      strip --strip-unneeded\n",
       "R_STRIP_STATIC_LIB      strip --strip-debug\n",
       "R_SYSTEM_ABI            linux,gcc,gxx,gfortran,gfortran\n",
       "R_TEXI2DVICMD           texi2dvi\n",
       "R_UNZIPCMD              /usr/bin/unzip\n",
       "R_ZIPCMD                /usr/bin/zip\n",
       "REFS                    /net/grc/vol6/mendelian_projects/mendelian_analysis/references/\n",
       "SAMPLES                 /net/grc/vol6/data/processed/samples\n",
       "SAMPLESDIR              /net/grc/vol6/data/processed/samples\n",
       "SED                     /usr/bin/sed\n",
       "SGE_CELL                grc\n",
       "SGE_CLUSTER             grc\n",
       "SGE_ROOT                /opt/sge\n",
       "SHELL                   /bin/bash\n",
       "SHLVL                   2\n",
       "SSH_CLIENT              10.110.100.202 46928 22\n",
       "SSH_CONNECTION          10.110.100.202 46928 10.200.100.15 22\n",
       "SSH_TTY                 /dev/pts/12\n",
       "SYS_ERROR_FILE          /net/grc/vol6/mendelian_projects/mendelian_analysis/references/sys_error/2017_jun/Jun2017.4217_unrelated.variants.systematic_error_confint.vcf.gz\n",
       "TAR                     /usr/bin/gtar\n",
       "TERM                    xterm-256color\n",
       "UK10K_FILE              /net/grc/vol6/mendelian_projects/mendelian_analysis/references/UK10K/UK10K_COHORT.20140722.sites.VT.confint.vcf.gz\n",
       "USER                    mcgold\n",
       "VTREF                   /net/grc/vol6/references/human/hg19/genome/assembly_bwa_0.7.10/hs37d5.fa\n",
       "XDG_DATA_DIRS           /nfs/home/mcgold/.local/share/flatpak/exports/share:/var/lib/flatpak/exports/share:/usr/local/share:/usr/share\n",
       "XDG_RUNTIME_DIR         /run/user/19506\n",
       "XDG_SESSION_ID          46019"
      ]
     },
     "metadata": {},
     "output_type": "display_data"
    }
   ],
   "source": [
    "Sys.getenv()"
   ]
  },
  {
   "cell_type": "raw",
   "metadata": {},
   "source": [
    "# Replace below with local installs: \n",
    "\n",
    "# takes ~3 minutes\n",
    "# skip this because the script is for cloud data and uses ubuntu - convert this to local CentOs7\n",
    "download.file(destfile=\"r-env-setup-script.R\", \n",
    "    url=\"https://raw.githubusercontent.com/c-mertes/RNAseq-ASHG19/master/r-env-setup-script.R\")\n",
    "source(\"r-env-setup-script.R\")\n",
    "print(\"Setup done.\")"
   ]
  },
  {
   "cell_type": "code",
   "execution_count": 39,
   "metadata": {},
   "outputs": [
    {
     "data": {
      "text/html": [
       "'/net/gs/vol3/software/modules-sw/R/4.0.3/Linux/CentOS7/x86_64/lib64/R/lib:/usr/local/lib64:/usr/lib/jvm/java-14-openjdk-14.0.2.12-1.rolling.el7.x86_64/lib/server:/net/gs/vol3/software/modules-sw/python/3.6.5/Linux/CentOS7/x86_64/lib/:/nfs/home/mcgold/bin/lib64:'"
      ],
      "text/latex": [
       "'/net/gs/vol3/software/modules-sw/R/4.0.3/Linux/CentOS7/x86\\_64/lib64/R/lib:/usr/local/lib64:/usr/lib/jvm/java-14-openjdk-14.0.2.12-1.rolling.el7.x86\\_64/lib/server:/net/gs/vol3/software/modules-sw/python/3.6.5/Linux/CentOS7/x86\\_64/lib/:/nfs/home/mcgold/bin/lib64:'"
      ],
      "text/markdown": [
       "'/net/gs/vol3/software/modules-sw/R/4.0.3/Linux/CentOS7/x86_64/lib64/R/lib:/usr/local/lib64:/usr/lib/jvm/java-14-openjdk-14.0.2.12-1.rolling.el7.x86_64/lib/server:/net/gs/vol3/software/modules-sw/python/3.6.5/Linux/CentOS7/x86_64/lib/:/nfs/home/mcgold/bin/lib64:'"
      ],
      "text/plain": [
       "[1] \"/net/gs/vol3/software/modules-sw/R/4.0.3/Linux/CentOS7/x86_64/lib64/R/lib:/usr/local/lib64:/usr/lib/jvm/java-14-openjdk-14.0.2.12-1.rolling.el7.x86_64/lib/server:/net/gs/vol3/software/modules-sw/python/3.6.5/Linux/CentOS7/x86_64/lib/:/nfs/home/mcgold/bin/lib64:\""
      ]
     },
     "metadata": {},
     "output_type": "display_data"
    }
   ],
   "source": [
    "Sys.getenv('LD_LIBRARY_PATH')"
   ]
  },
  {
   "cell_type": "code",
   "execution_count": 4,
   "metadata": {},
   "outputs": [],
   "source": [
    "# set you local library path for user-specific installs"
   ]
  },
  {
   "cell_type": "code",
   "execution_count": 5,
   "metadata": {},
   "outputs": [],
   "source": [
    "# module library path:\n",
    ".libPaths(c(\"~/R/x86_64-pc-linux-gnu-library/4.0\",'/net/gs/vol3/software/modules-sw/R/4.0.3/Linux/CentOS7/x86_64/lib64/R/lib:/usr/local/lib64','/usr/lib/jvm/java-14-openjdk-14.0.2.12-1.rolling.el7.x86_64/lib/server','/net/gs/vol3/software/modules-sw/R/4.0.3/Linux/CentOS7/x86_64/lib64/R/lib','/net/gs/vol3/software/modules-sw/python/3.7.7/Linux/CentOS7/x86_64/lib/','/nfs/home/mcgold/bin/lib64'))"
   ]
  },
  {
   "cell_type": "code",
   "execution_count": 7,
   "metadata": {},
   "outputs": [],
   "source": [
    "# make sure you make a place for your personal library folder \n",
    "# do: mkdir -p \"~/R/x86_64-pc-linux-gnu-library/4.0\" "
   ]
  },
  {
   "cell_type": "markdown",
   "metadata": {},
   "source": [
    "# Patch in the Local Installs instead of the cloud installs\n",
    "## Only install this once"
   ]
  },
  {
   "cell_type": "markdown",
   "metadata": {},
   "source": [
    "# annotables"
   ]
  },
  {
   "cell_type": "raw",
   "metadata": {},
   "source": [
    "#local annotables install \n",
    "install.packages(\"devtools\",lib=\"~/R/x86_64-pc-linux-gnu-library/4.0\")\n",
    "BiocManager::install(\"remotes\",lib=\"~/R/x86_64-pc-linux-gnu-library/4.0\")\n",
    "BiocManager::install(\"stephenturner/annotables\",lib=\"~/R/x86_64-pc-linux-gnu-library/4.0\")"
   ]
  },
  {
   "cell_type": "markdown",
   "metadata": {},
   "source": [
    "## OUTRIDER\n",
    "https://www.bioconductor.org/packages/release/bioc/html/OUTRIDER.html"
   ]
  },
  {
   "cell_type": "raw",
   "metadata": {
    "scrolled": true
   },
   "source": [
    "# don't forget the lib= parameter this makes the libraries your user cache and installable not as root\n",
    "if (!requireNamespace(\"BiocManager\", quietly = TRUE))\n",
    "    install.packages(\"BiocManager\",lib=\"~/R/x86_64-pc-linux-gnu-library/4.0\")\n",
    "\n",
    "BiocManager::install(\"OUTRIDER\",lib=\"~/R/x86_64-pc-linux-gnu-library/4.0\")"
   ]
  },
  {
   "cell_type": "markdown",
   "metadata": {},
   "source": [
    "# data.table"
   ]
  },
  {
   "cell_type": "raw",
   "metadata": {},
   "source": [
    "# local data.table install\n",
    "# https://www.rdocumentation.org/packages/data.table/versions/1.13.2\n",
    "install.packages(\"data.table\",lib=\"~/R/x86_64-pc-linux-gnu-library/4.0\")\n",
    "\n",
    "# latest development version:\n",
    "data.table::update.dev.pkg()"
   ]
  },
  {
   "cell_type": "markdown",
   "metadata": {},
   "source": [
    "# ggplot2 as part of tidyverse"
   ]
  },
  {
   "cell_type": "raw",
   "metadata": {},
   "source": [
    "# The easiest way to get ggplot2 is to install the whole tidyverse:\n",
    "install.packages(\"tidyverse\",lib=\"~/R/x86_64-pc-linux-gnu-library/4.0\")"
   ]
  },
  {
   "cell_type": "markdown",
   "metadata": {},
   "source": [
    "# ggpubr"
   ]
  },
  {
   "cell_type": "raw",
   "metadata": {},
   "source": [
    "install.packages(\"ggpubr\",lib=\"~/R/x86_64-pc-linux-gnu-library/4.0\")"
   ]
  },
  {
   "cell_type": "markdown",
   "metadata": {},
   "source": [
    "# FRASER"
   ]
  },
  {
   "cell_type": "raw",
   "metadata": {},
   "source": [
    "# Fails\n",
    "install.packages('http://www.bioconductor.org/packages/release/bioc/src/contrib/sparseMatrixStats_1.2.0.tar.gz',repos = NULL, type=\"source\", lib=\"~/R/x86_64-pc-linux-gnu-library/4.0\")\n",
    "#install.packages(\"DelayedMatrixStats\",lib=\"~/R/x86_64-pc-linux-gnu-library/4.0\")"
   ]
  },
  {
   "cell_type": "raw",
   "metadata": {},
   "source": [
    "#Fails\n",
    "devtools::install_github('gagneurlab/FRASER', dependencies=TRUE,lib=\"~/R/x86_64-pc-linux-gnu-library/4.0\")"
   ]
  },
  {
   "cell_type": "raw",
   "metadata": {},
   "source": [
    "# for the development version use\n",
    "# The following initializes usage of Bioc devel\n",
    "BiocManager::install(\"FRASER\",lib=\"~/R/x86_64-pc-linux-gnu-library/4.0\")"
   ]
  },
  {
   "cell_type": "markdown",
   "metadata": {},
   "source": [
    "# If you see an error or warning in installing packages please check that you added the local library directory with .libpaths, and have used a local install with the directory permissions for the local libraries set and present\n",
    "\n",
    "\n",
    ".libPaths(\"~/R/x86_64-pc-linux-gnu-library/4.0\")\n"
   ]
  },
  {
   "cell_type": "markdown",
   "metadata": {},
   "source": [
    "# load the necessary installed libraries "
   ]
  },
  {
   "cell_type": "code",
   "execution_count": 63,
   "metadata": {},
   "outputs": [],
   "source": [
    "# outlier analysis\n",
    "library(OUTRIDER)\n",
    "library(annotables)\n",
    "library(data.table)\n",
    "library(ggplot2)\n",
    "library(ggpubr)\n",
    "# splice analysis\n",
    "library(FRASER)\n",
    "register(SerialParam())"
   ]
  },
  {
   "cell_type": "code",
   "execution_count": 68,
   "metadata": {},
   "outputs": [],
   "source": [
    "setwd(\"/net/grc/vol6/mendelian_projects/udn_ucla_external_uwcmg_fam287604_rna_1/\")"
   ]
  },
  {
   "cell_type": "markdown",
   "metadata": {},
   "source": [
    "# Expression outlier detection:\n",
    "\n",
    "Data import\n",
    "First, we have to load the OUTRIDER package that we will use to run the full expression outlier analysis. To map ENSEMBL gene names and HGNC symbols we use annotables. For efficient data handling and visualization, we further load data.table, ggplot2, and ggpubr.\n",
    "\n"
   ]
  },
  {
   "cell_type": "code",
   "execution_count": 46,
   "metadata": {},
   "outputs": [
    {
     "name": "stderr",
     "output_type": "stream",
     "text": [
      "Warning message in fread(\"/net/grc/vol6/mendelian_projects/udn_ucla_external_uwcmg_fam287604_rna_1/fam297604_annotation.tsv\"):\n",
      "“Found and resolved improper quoting in first 100 rows. If the fields are not quoted (e.g. field separator does not appear within any field), try quote=\"\" to avoid this warning.”\n"
     ]
    },
    {
     "data": {
      "text/html": [
       "<table>\n",
       "<caption>A data.table: 5 × 12</caption>\n",
       "<thead>\n",
       "\t<tr><th scope=col>\"RNA_ID\"</th><th scope=col>\"SEX\"</th><th scope=col>\"ORIGIN\"</th><th scope=col>\"LAB\"</th><th scope=col>\"INDIVIDUAL\"</th><th scope=col>\"phase1TG\"</th><th scope=col>\"OUTRIDER_GROUP\"</th><th scope=col>\"PAIRED_END\"</th><th scope=col>\"COUNT_MODE\"</th><th scope=col>\"COUNT_OVERLAP\"</th><th scope=col>\"COUNT_AS_STRANDED\"</th><th scope=col>\"sampleID\"</th></tr>\n",
       "\t<tr><th scope=col>&lt;chr&gt;</th><th scope=col>&lt;chr&gt;</th><th scope=col>&lt;chr&gt;</th><th scope=col>&lt;chr&gt;</th><th scope=col>&lt;chr&gt;</th><th scope=col>&lt;int&gt;</th><th scope=col>&lt;chr&gt;</th><th scope=col>&lt;lgl&gt;</th><th scope=col>&lt;chr&gt;</th><th scope=col>&lt;lgl&gt;</th><th scope=col>&lt;chr&gt;</th><th scope=col>&lt;chr&gt;</th></tr>\n",
       "</thead>\n",
       "<tbody>\n",
       "\t<tr><td>\"s307256\"</td><td>\"female\"</td><td>\"blood\"     </td><td>\"UW\"</td><td>\"s307256\"</td><td>1</td><td>\"blood\"     </td><td>TRUE</td><td>\"IntersectionStrict\"</td><td>TRUE</td><td>\"yes\"</td><td>\"s307256\"</td></tr>\n",
       "\t<tr><td>\"s307257\"</td><td>\"female\"</td><td>\"fibroblast\"</td><td>\"UW\"</td><td>\"s307257\"</td><td>1</td><td>\"fibroblast\"</td><td>TRUE</td><td>\"IntersectionStrict\"</td><td>TRUE</td><td>\"yes\"</td><td>\"s307257\"</td></tr>\n",
       "\t<tr><td>\"s307258\"</td><td>\"female </td><td>\"blood\"     </td><td>\"UW\"</td><td>\"s307258\"</td><td>1</td><td>\"blood\"     </td><td>TRUE</td><td>\"IntersectionStrict\"</td><td>TRUE</td><td>\"yes\"</td><td>\"s307258\"</td></tr>\n",
       "\t<tr><td>\"s307259\"</td><td>\"female\"</td><td>\"fibroblast\"</td><td>\"UW\"</td><td>\"s307259\"</td><td>1</td><td>\"fibroblast\"</td><td>TRUE</td><td>\"IntersectionStrict\"</td><td>TRUE</td><td>\"yes\"</td><td>\"s307259\"</td></tr>\n",
       "\t<tr><td>\"s307260\"</td><td>\"male\"  </td><td>\"fibroblast\"</td><td>\"UW\"</td><td>\"s307260\"</td><td>1</td><td>\"fibroblast\"</td><td>TRUE</td><td>\"IntersectionStrict\"</td><td>TRUE</td><td>\"yes\"</td><td>\"s307260\"</td></tr>\n",
       "</tbody>\n",
       "</table>\n"
      ],
      "text/latex": [
       "A data.table: 5 × 12\n",
       "\\begin{tabular}{llllllllllll}\n",
       " \"RNA\\_ID\" & \"SEX\" & \"ORIGIN\" & \"LAB\" & \"INDIVIDUAL\" & \"phase1TG\" & \"OUTRIDER\\_GROUP\" & \"PAIRED\\_END\" & \"COUNT\\_MODE\" & \"COUNT\\_OVERLAP\" & \"COUNT\\_AS\\_STRANDED\" & \"sampleID\"\\\\\n",
       " <chr> & <chr> & <chr> & <chr> & <chr> & <int> & <chr> & <lgl> & <chr> & <lgl> & <chr> & <chr>\\\\\n",
       "\\hline\n",
       "\t \"s307256\" & \"female\" & \"blood\"      & \"UW\" & \"s307256\" & 1 & \"blood\"      & TRUE & \"IntersectionStrict\" & TRUE & \"yes\" & \"s307256\"\\\\\n",
       "\t \"s307257\" & \"female\" & \"fibroblast\" & \"UW\" & \"s307257\" & 1 & \"fibroblast\" & TRUE & \"IntersectionStrict\" & TRUE & \"yes\" & \"s307257\"\\\\\n",
       "\t \"s307258\" & \"female  & \"blood\"      & \"UW\" & \"s307258\" & 1 & \"blood\"      & TRUE & \"IntersectionStrict\" & TRUE & \"yes\" & \"s307258\"\\\\\n",
       "\t \"s307259\" & \"female\" & \"fibroblast\" & \"UW\" & \"s307259\" & 1 & \"fibroblast\" & TRUE & \"IntersectionStrict\" & TRUE & \"yes\" & \"s307259\"\\\\\n",
       "\t \"s307260\" & \"male\"   & \"fibroblast\" & \"UW\" & \"s307260\" & 1 & \"fibroblast\" & TRUE & \"IntersectionStrict\" & TRUE & \"yes\" & \"s307260\"\\\\\n",
       "\\end{tabular}\n"
      ],
      "text/markdown": [
       "\n",
       "A data.table: 5 × 12\n",
       "\n",
       "| \"RNA_ID\" &lt;chr&gt; | \"SEX\" &lt;chr&gt; | \"ORIGIN\" &lt;chr&gt; | \"LAB\" &lt;chr&gt; | \"INDIVIDUAL\" &lt;chr&gt; | \"phase1TG\" &lt;int&gt; | \"OUTRIDER_GROUP\" &lt;chr&gt; | \"PAIRED_END\" &lt;lgl&gt; | \"COUNT_MODE\" &lt;chr&gt; | \"COUNT_OVERLAP\" &lt;lgl&gt; | \"COUNT_AS_STRANDED\" &lt;chr&gt; | \"sampleID\" &lt;chr&gt; |\n",
       "|---|---|---|---|---|---|---|---|---|---|---|---|\n",
       "| \"s307256\" | \"female\" | \"blood\"      | \"UW\" | \"s307256\" | 1 | \"blood\"      | TRUE | \"IntersectionStrict\" | TRUE | \"yes\" | \"s307256\" |\n",
       "| \"s307257\" | \"female\" | \"fibroblast\" | \"UW\" | \"s307257\" | 1 | \"fibroblast\" | TRUE | \"IntersectionStrict\" | TRUE | \"yes\" | \"s307257\" |\n",
       "| \"s307258\" | \"female  | \"blood\"      | \"UW\" | \"s307258\" | 1 | \"blood\"      | TRUE | \"IntersectionStrict\" | TRUE | \"yes\" | \"s307258\" |\n",
       "| \"s307259\" | \"female\" | \"fibroblast\" | \"UW\" | \"s307259\" | 1 | \"fibroblast\" | TRUE | \"IntersectionStrict\" | TRUE | \"yes\" | \"s307259\" |\n",
       "| \"s307260\" | \"male\"   | \"fibroblast\" | \"UW\" | \"s307260\" | 1 | \"fibroblast\" | TRUE | \"IntersectionStrict\" | TRUE | \"yes\" | \"s307260\" |\n",
       "\n"
      ],
      "text/plain": [
       "  \"RNA_ID\"  \"SEX\"    \"ORIGIN\"     \"LAB\" \"INDIVIDUAL\" \"phase1TG\"\n",
       "1 \"s307256\" \"female\" \"blood\"      \"UW\"  \"s307256\"    1         \n",
       "2 \"s307257\" \"female\" \"fibroblast\" \"UW\"  \"s307257\"    1         \n",
       "3 \"s307258\" \"female  \"blood\"      \"UW\"  \"s307258\"    1         \n",
       "4 \"s307259\" \"female\" \"fibroblast\" \"UW\"  \"s307259\"    1         \n",
       "5 \"s307260\" \"male\"   \"fibroblast\" \"UW\"  \"s307260\"    1         \n",
       "  \"OUTRIDER_GROUP\" \"PAIRED_END\" \"COUNT_MODE\"         \"COUNT_OVERLAP\"\n",
       "1 \"blood\"          TRUE         \"IntersectionStrict\" TRUE           \n",
       "2 \"fibroblast\"     TRUE         \"IntersectionStrict\" TRUE           \n",
       "3 \"blood\"          TRUE         \"IntersectionStrict\" TRUE           \n",
       "4 \"fibroblast\"     TRUE         \"IntersectionStrict\" TRUE           \n",
       "5 \"fibroblast\"     TRUE         \"IntersectionStrict\" TRUE           \n",
       "  \"COUNT_AS_STRANDED\" \"sampleID\"\n",
       "1 \"yes\"               \"s307256\" \n",
       "2 \"yes\"               \"s307257\" \n",
       "3 \"yes\"               \"s307258\" \n",
       "4 \"yes\"               \"s307259\" \n",
       "5 \"yes\"               \"s307260\" "
      ]
     },
     "metadata": {},
     "output_type": "display_data"
    },
    {
     "name": "stdout",
     "output_type": "stream",
     "text": [
      "[1] \"Dimensions of the annotation:\"\n"
     ]
    },
    {
     "data": {
      "text/html": [
       "<style>\n",
       ".list-inline {list-style: none; margin:0; padding: 0}\n",
       ".list-inline>li {display: inline-block}\n",
       ".list-inline>li:not(:last-child)::after {content: \"\\00b7\"; padding: 0 .5ex}\n",
       "</style>\n",
       "<ol class=list-inline><li>5</li><li>12</li></ol>\n"
      ],
      "text/latex": [
       "\\begin{enumerate*}\n",
       "\\item 5\n",
       "\\item 12\n",
       "\\end{enumerate*}\n"
      ],
      "text/markdown": [
       "1. 5\n",
       "2. 12\n",
       "\n",
       "\n"
      ],
      "text/plain": [
       "[1]  5 12"
      ]
     },
     "metadata": {},
     "output_type": "display_data"
    },
    {
     "data": {
      "text/html": [
       "<style>\n",
       ".list-inline {list-style: none; margin:0; padding: 0}\n",
       ".list-inline>li {display: inline-block}\n",
       ".list-inline>li:not(:last-child)::after {content: \"\\00b7\"; padding: 0 .5ex}\n",
       "</style>\n",
       "<ol class=list-inline><li>58219</li><li>5</li></ol>\n"
      ],
      "text/latex": [
       "\\begin{enumerate*}\n",
       "\\item 58219\n",
       "\\item 5\n",
       "\\end{enumerate*}\n"
      ],
      "text/markdown": [
       "1. 58219\n",
       "2. 5\n",
       "\n",
       "\n"
      ],
      "text/plain": [
       "[1] 58219     5"
      ]
     },
     "metadata": {},
     "output_type": "display_data"
    },
    {
     "data": {
      "text/html": [
       "<table>\n",
       "<caption>A matrix: 58219 × 5 of type int</caption>\n",
       "<thead>\n",
       "\t<tr><th></th><th scope=col>s307256</th><th scope=col>s307257</th><th scope=col>s307258</th><th scope=col>s307259</th><th scope=col>s307260</th></tr>\n",
       "</thead>\n",
       "<tbody>\n",
       "\t<tr><th scope=row>ENSG00000223972.5</th><td>  5</td><td>  6</td><td>  0</td><td>  0</td><td>  1</td></tr>\n",
       "\t<tr><th scope=row>ENSG00000227232.5</th><td>105</td><td>156</td><td>101</td><td>192</td><td> 81</td></tr>\n",
       "\t<tr><th scope=row>ENSG00000278267.1</th><td>  0</td><td>  1</td><td>  0</td><td>  0</td><td>  0</td></tr>\n",
       "\t<tr><th scope=row>ENSG00000243485.5</th><td>  0</td><td>  1</td><td>  0</td><td>  1</td><td>  1</td></tr>\n",
       "\t<tr><th scope=row>ENSG00000284332.1</th><td>  0</td><td>  0</td><td>  0</td><td>  0</td><td>  0</td></tr>\n",
       "\t<tr><th scope=row>ENSG00000237613.2</th><td>  0</td><td>  0</td><td>  0</td><td>  0</td><td>  0</td></tr>\n",
       "\t<tr><th scope=row>ENSG00000268020.3</th><td>  0</td><td>  0</td><td>  0</td><td>  0</td><td>  0</td></tr>\n",
       "\t<tr><th scope=row>ENSG00000240361.1</th><td>  0</td><td>  0</td><td>  0</td><td>  0</td><td>  0</td></tr>\n",
       "\t<tr><th scope=row>ENSG00000186092.4</th><td>  0</td><td>  0</td><td>  0</td><td>  0</td><td>  0</td></tr>\n",
       "\t<tr><th scope=row>ENSG00000238009.6</th><td> 18</td><td>  0</td><td> 11</td><td>  0</td><td>  0</td></tr>\n",
       "\t<tr><th scope=row>ENSG00000239945.1</th><td>  0</td><td>  0</td><td>  0</td><td>  0</td><td>  0</td></tr>\n",
       "\t<tr><th scope=row>ENSG00000233750.3</th><td>  0</td><td>  0</td><td>  0</td><td>  0</td><td>  0</td></tr>\n",
       "\t<tr><th scope=row>ENSG00000268903.1</th><td> 20</td><td>  1</td><td> 25</td><td>  1</td><td>  1</td></tr>\n",
       "\t<tr><th scope=row>ENSG00000269981.1</th><td>  0</td><td>  2</td><td>  0</td><td>  4</td><td>  2</td></tr>\n",
       "\t<tr><th scope=row>ENSG00000239906.1</th><td>  1</td><td>  0</td><td>  5</td><td>  0</td><td>  0</td></tr>\n",
       "\t<tr><th scope=row>ENSG00000241860.6</th><td> 79</td><td>  8</td><td> 38</td><td>  4</td><td>  3</td></tr>\n",
       "\t<tr><th scope=row>ENSG00000222623.1</th><td>  0</td><td>  0</td><td>  0</td><td>  0</td><td>  0</td></tr>\n",
       "\t<tr><th scope=row>ENSG00000241599.1</th><td>  0</td><td>  0</td><td>  0</td><td>  0</td><td>  0</td></tr>\n",
       "\t<tr><th scope=row>ENSG00000279928.2</th><td>  3</td><td>  1</td><td>  2</td><td>  4</td><td>  0</td></tr>\n",
       "\t<tr><th scope=row>ENSG00000279457.4</th><td>227</td><td>354</td><td>232</td><td>443</td><td>241</td></tr>\n",
       "\t<tr><th scope=row>ENSG00000273874.1</th><td>  0</td><td>  0</td><td>  0</td><td>  0</td><td>  0</td></tr>\n",
       "\t<tr><th scope=row>ENSG00000228463.9</th><td> 19</td><td> 35</td><td> 53</td><td> 20</td><td>  7</td></tr>\n",
       "\t<tr><th scope=row>ENSG00000241670.3</th><td>  0</td><td>  0</td><td>  0</td><td>  0</td><td>  0</td></tr>\n",
       "\t<tr><th scope=row>ENSG00000236679.2</th><td>  0</td><td>  0</td><td>  0</td><td>  0</td><td>  0</td></tr>\n",
       "\t<tr><th scope=row>ENSG00000236743.1</th><td>  0</td><td>  0</td><td>  0</td><td>  0</td><td>  0</td></tr>\n",
       "\t<tr><th scope=row>ENSG00000236601.2</th><td>  0</td><td>  0</td><td>  0</td><td>  0</td><td>  0</td></tr>\n",
       "\t<tr><th scope=row>ENSG00000237094.11</th><td> 15</td><td>  7</td><td> 17</td><td>  4</td><td>  3</td></tr>\n",
       "\t<tr><th scope=row>ENSG00000269732.1</th><td>  0</td><td>  0</td><td>  0</td><td>  0</td><td>  0</td></tr>\n",
       "\t<tr><th scope=row>ENSG00000278566.1</th><td>  0</td><td>  0</td><td>  0</td><td>  0</td><td>  0</td></tr>\n",
       "\t<tr><th scope=row>ENSG00000224813.3</th><td>  0</td><td>  0</td><td>  0</td><td>  0</td><td>  0</td></tr>\n",
       "\t<tr><th scope=row>⋮</th><td>⋮</td><td>⋮</td><td>⋮</td><td>⋮</td><td>⋮</td></tr>\n",
       "\t<tr><th scope=row>ENSG00000210107.1</th><td>    0</td><td>    38</td><td>   1</td><td>    19</td><td>     0</td></tr>\n",
       "\t<tr><th scope=row>ENSG00000210112.1</th><td>    0</td><td>     1</td><td>   0</td><td>     0</td><td>     1</td></tr>\n",
       "\t<tr><th scope=row>ENSG00000198763.3</th><td>  192</td><td> 44640</td><td>  60</td><td> 78917</td><td> 73717</td></tr>\n",
       "\t<tr><th scope=row>ENSG00000210117.1</th><td>  100</td><td>    32</td><td> 172</td><td>    91</td><td>    29</td></tr>\n",
       "\t<tr><th scope=row>ENSG00000210127.1</th><td>    0</td><td>     0</td><td>   0</td><td>     3</td><td>     1</td></tr>\n",
       "\t<tr><th scope=row>ENSG00000210135.1</th><td>    0</td><td>     0</td><td>   0</td><td>     0</td><td>     0</td></tr>\n",
       "\t<tr><th scope=row>ENSG00000210140.1</th><td>    0</td><td>     0</td><td>   0</td><td>     0</td><td>     1</td></tr>\n",
       "\t<tr><th scope=row>ENSG00000210144.1</th><td>    0</td><td>     0</td><td>   0</td><td>     0</td><td>     0</td></tr>\n",
       "\t<tr><th scope=row>ENSG00000198804.2</th><td>12871</td><td>486939</td><td>7148</td><td>695244</td><td>733349</td></tr>\n",
       "\t<tr><th scope=row>ENSG00000210151.2</th><td>    0</td><td>     0</td><td>   0</td><td>     0</td><td>     0</td></tr>\n",
       "\t<tr><th scope=row>ENSG00000210154.1</th><td>    0</td><td>     0</td><td>   0</td><td>     0</td><td>     0</td></tr>\n",
       "\t<tr><th scope=row>ENSG00000198712.1</th><td> 1986</td><td>178683</td><td> 574</td><td>203916</td><td>269259</td></tr>\n",
       "\t<tr><th scope=row>ENSG00000210156.1</th><td>    0</td><td>     0</td><td>   0</td><td>     0</td><td>     0</td></tr>\n",
       "\t<tr><th scope=row>ENSG00000228253.1</th><td>   16</td><td>  8329</td><td>   3</td><td> 10633</td><td>  6491</td></tr>\n",
       "\t<tr><th scope=row>ENSG00000198899.2</th><td>  262</td><td> 49815</td><td>  91</td><td>101744</td><td> 71275</td></tr>\n",
       "\t<tr><th scope=row>ENSG00000198938.2</th><td> 4032</td><td>163602</td><td>2128</td><td>240621</td><td>201311</td></tr>\n",
       "\t<tr><th scope=row>ENSG00000210164.1</th><td>    0</td><td>     0</td><td>   0</td><td>     0</td><td>     0</td></tr>\n",
       "\t<tr><th scope=row>ENSG00000198840.2</th><td>  189</td><td> 10056</td><td> 129</td><td> 24745</td><td> 14095</td></tr>\n",
       "\t<tr><th scope=row>ENSG00000210174.1</th><td>    0</td><td>     0</td><td>   0</td><td>     0</td><td>     0</td></tr>\n",
       "\t<tr><th scope=row>ENSG00000212907.2</th><td>  118</td><td> 23744</td><td>  18</td><td> 26213</td><td> 35202</td></tr>\n",
       "\t<tr><th scope=row>ENSG00000198886.2</th><td>  638</td><td>242091</td><td> 194</td><td>345393</td><td>473606</td></tr>\n",
       "\t<tr><th scope=row>ENSG00000210176.1</th><td>    0</td><td>     0</td><td>   0</td><td>     0</td><td>     0</td></tr>\n",
       "\t<tr><th scope=row>ENSG00000210184.1</th><td>    0</td><td>     0</td><td>   0</td><td>     0</td><td>     0</td></tr>\n",
       "\t<tr><th scope=row>ENSG00000210191.1</th><td>    0</td><td>     0</td><td>   0</td><td>     0</td><td>     0</td></tr>\n",
       "\t<tr><th scope=row>ENSG00000198786.2</th><td>  183</td><td>200406</td><td>  69</td><td>308625</td><td>407183</td></tr>\n",
       "\t<tr><th scope=row>ENSG00000198695.2</th><td>    1</td><td>   279</td><td>  14</td><td>    58</td><td>   204</td></tr>\n",
       "\t<tr><th scope=row>ENSG00000210194.1</th><td>    0</td><td>     0</td><td>   0</td><td>     1</td><td>     0</td></tr>\n",
       "\t<tr><th scope=row>ENSG00000198727.2</th><td>  330</td><td>179933</td><td> 132</td><td>245679</td><td>306535</td></tr>\n",
       "\t<tr><th scope=row>ENSG00000210195.2</th><td>    5</td><td>   154</td><td>   4</td><td>   185</td><td>   123</td></tr>\n",
       "\t<tr><th scope=row>ENSG00000210196.2</th><td>    3</td><td>     0</td><td>   8</td><td>     0</td><td>     0</td></tr>\n",
       "</tbody>\n",
       "</table>\n"
      ],
      "text/latex": [
       "A matrix: 58219 × 5 of type int\n",
       "\\begin{tabular}{r|lllll}\n",
       "  & s307256 & s307257 & s307258 & s307259 & s307260\\\\\n",
       "\\hline\n",
       "\tENSG00000223972.5 &   5 &   6 &   0 &   0 &   1\\\\\n",
       "\tENSG00000227232.5 & 105 & 156 & 101 & 192 &  81\\\\\n",
       "\tENSG00000278267.1 &   0 &   1 &   0 &   0 &   0\\\\\n",
       "\tENSG00000243485.5 &   0 &   1 &   0 &   1 &   1\\\\\n",
       "\tENSG00000284332.1 &   0 &   0 &   0 &   0 &   0\\\\\n",
       "\tENSG00000237613.2 &   0 &   0 &   0 &   0 &   0\\\\\n",
       "\tENSG00000268020.3 &   0 &   0 &   0 &   0 &   0\\\\\n",
       "\tENSG00000240361.1 &   0 &   0 &   0 &   0 &   0\\\\\n",
       "\tENSG00000186092.4 &   0 &   0 &   0 &   0 &   0\\\\\n",
       "\tENSG00000238009.6 &  18 &   0 &  11 &   0 &   0\\\\\n",
       "\tENSG00000239945.1 &   0 &   0 &   0 &   0 &   0\\\\\n",
       "\tENSG00000233750.3 &   0 &   0 &   0 &   0 &   0\\\\\n",
       "\tENSG00000268903.1 &  20 &   1 &  25 &   1 &   1\\\\\n",
       "\tENSG00000269981.1 &   0 &   2 &   0 &   4 &   2\\\\\n",
       "\tENSG00000239906.1 &   1 &   0 &   5 &   0 &   0\\\\\n",
       "\tENSG00000241860.6 &  79 &   8 &  38 &   4 &   3\\\\\n",
       "\tENSG00000222623.1 &   0 &   0 &   0 &   0 &   0\\\\\n",
       "\tENSG00000241599.1 &   0 &   0 &   0 &   0 &   0\\\\\n",
       "\tENSG00000279928.2 &   3 &   1 &   2 &   4 &   0\\\\\n",
       "\tENSG00000279457.4 & 227 & 354 & 232 & 443 & 241\\\\\n",
       "\tENSG00000273874.1 &   0 &   0 &   0 &   0 &   0\\\\\n",
       "\tENSG00000228463.9 &  19 &  35 &  53 &  20 &   7\\\\\n",
       "\tENSG00000241670.3 &   0 &   0 &   0 &   0 &   0\\\\\n",
       "\tENSG00000236679.2 &   0 &   0 &   0 &   0 &   0\\\\\n",
       "\tENSG00000236743.1 &   0 &   0 &   0 &   0 &   0\\\\\n",
       "\tENSG00000236601.2 &   0 &   0 &   0 &   0 &   0\\\\\n",
       "\tENSG00000237094.11 &  15 &   7 &  17 &   4 &   3\\\\\n",
       "\tENSG00000269732.1 &   0 &   0 &   0 &   0 &   0\\\\\n",
       "\tENSG00000278566.1 &   0 &   0 &   0 &   0 &   0\\\\\n",
       "\tENSG00000224813.3 &   0 &   0 &   0 &   0 &   0\\\\\n",
       "\t⋮ & ⋮ & ⋮ & ⋮ & ⋮ & ⋮\\\\\n",
       "\tENSG00000210107.1 &     0 &     38 &    1 &     19 &      0\\\\\n",
       "\tENSG00000210112.1 &     0 &      1 &    0 &      0 &      1\\\\\n",
       "\tENSG00000198763.3 &   192 &  44640 &   60 &  78917 &  73717\\\\\n",
       "\tENSG00000210117.1 &   100 &     32 &  172 &     91 &     29\\\\\n",
       "\tENSG00000210127.1 &     0 &      0 &    0 &      3 &      1\\\\\n",
       "\tENSG00000210135.1 &     0 &      0 &    0 &      0 &      0\\\\\n",
       "\tENSG00000210140.1 &     0 &      0 &    0 &      0 &      1\\\\\n",
       "\tENSG00000210144.1 &     0 &      0 &    0 &      0 &      0\\\\\n",
       "\tENSG00000198804.2 & 12871 & 486939 & 7148 & 695244 & 733349\\\\\n",
       "\tENSG00000210151.2 &     0 &      0 &    0 &      0 &      0\\\\\n",
       "\tENSG00000210154.1 &     0 &      0 &    0 &      0 &      0\\\\\n",
       "\tENSG00000198712.1 &  1986 & 178683 &  574 & 203916 & 269259\\\\\n",
       "\tENSG00000210156.1 &     0 &      0 &    0 &      0 &      0\\\\\n",
       "\tENSG00000228253.1 &    16 &   8329 &    3 &  10633 &   6491\\\\\n",
       "\tENSG00000198899.2 &   262 &  49815 &   91 & 101744 &  71275\\\\\n",
       "\tENSG00000198938.2 &  4032 & 163602 & 2128 & 240621 & 201311\\\\\n",
       "\tENSG00000210164.1 &     0 &      0 &    0 &      0 &      0\\\\\n",
       "\tENSG00000198840.2 &   189 &  10056 &  129 &  24745 &  14095\\\\\n",
       "\tENSG00000210174.1 &     0 &      0 &    0 &      0 &      0\\\\\n",
       "\tENSG00000212907.2 &   118 &  23744 &   18 &  26213 &  35202\\\\\n",
       "\tENSG00000198886.2 &   638 & 242091 &  194 & 345393 & 473606\\\\\n",
       "\tENSG00000210176.1 &     0 &      0 &    0 &      0 &      0\\\\\n",
       "\tENSG00000210184.1 &     0 &      0 &    0 &      0 &      0\\\\\n",
       "\tENSG00000210191.1 &     0 &      0 &    0 &      0 &      0\\\\\n",
       "\tENSG00000198786.2 &   183 & 200406 &   69 & 308625 & 407183\\\\\n",
       "\tENSG00000198695.2 &     1 &    279 &   14 &     58 &    204\\\\\n",
       "\tENSG00000210194.1 &     0 &      0 &    0 &      1 &      0\\\\\n",
       "\tENSG00000198727.2 &   330 & 179933 &  132 & 245679 & 306535\\\\\n",
       "\tENSG00000210195.2 &     5 &    154 &    4 &    185 &    123\\\\\n",
       "\tENSG00000210196.2 &     3 &      0 &    8 &      0 &      0\\\\\n",
       "\\end{tabular}\n"
      ],
      "text/markdown": [
       "\n",
       "A matrix: 58219 × 5 of type int\n",
       "\n",
       "| <!--/--> | s307256 | s307257 | s307258 | s307259 | s307260 |\n",
       "|---|---|---|---|---|---|\n",
       "| ENSG00000223972.5 |   5 |   6 |   0 |   0 |   1 |\n",
       "| ENSG00000227232.5 | 105 | 156 | 101 | 192 |  81 |\n",
       "| ENSG00000278267.1 |   0 |   1 |   0 |   0 |   0 |\n",
       "| ENSG00000243485.5 |   0 |   1 |   0 |   1 |   1 |\n",
       "| ENSG00000284332.1 |   0 |   0 |   0 |   0 |   0 |\n",
       "| ENSG00000237613.2 |   0 |   0 |   0 |   0 |   0 |\n",
       "| ENSG00000268020.3 |   0 |   0 |   0 |   0 |   0 |\n",
       "| ENSG00000240361.1 |   0 |   0 |   0 |   0 |   0 |\n",
       "| ENSG00000186092.4 |   0 |   0 |   0 |   0 |   0 |\n",
       "| ENSG00000238009.6 |  18 |   0 |  11 |   0 |   0 |\n",
       "| ENSG00000239945.1 |   0 |   0 |   0 |   0 |   0 |\n",
       "| ENSG00000233750.3 |   0 |   0 |   0 |   0 |   0 |\n",
       "| ENSG00000268903.1 |  20 |   1 |  25 |   1 |   1 |\n",
       "| ENSG00000269981.1 |   0 |   2 |   0 |   4 |   2 |\n",
       "| ENSG00000239906.1 |   1 |   0 |   5 |   0 |   0 |\n",
       "| ENSG00000241860.6 |  79 |   8 |  38 |   4 |   3 |\n",
       "| ENSG00000222623.1 |   0 |   0 |   0 |   0 |   0 |\n",
       "| ENSG00000241599.1 |   0 |   0 |   0 |   0 |   0 |\n",
       "| ENSG00000279928.2 |   3 |   1 |   2 |   4 |   0 |\n",
       "| ENSG00000279457.4 | 227 | 354 | 232 | 443 | 241 |\n",
       "| ENSG00000273874.1 |   0 |   0 |   0 |   0 |   0 |\n",
       "| ENSG00000228463.9 |  19 |  35 |  53 |  20 |   7 |\n",
       "| ENSG00000241670.3 |   0 |   0 |   0 |   0 |   0 |\n",
       "| ENSG00000236679.2 |   0 |   0 |   0 |   0 |   0 |\n",
       "| ENSG00000236743.1 |   0 |   0 |   0 |   0 |   0 |\n",
       "| ENSG00000236601.2 |   0 |   0 |   0 |   0 |   0 |\n",
       "| ENSG00000237094.11 |  15 |   7 |  17 |   4 |   3 |\n",
       "| ENSG00000269732.1 |   0 |   0 |   0 |   0 |   0 |\n",
       "| ENSG00000278566.1 |   0 |   0 |   0 |   0 |   0 |\n",
       "| ENSG00000224813.3 |   0 |   0 |   0 |   0 |   0 |\n",
       "| ⋮ | ⋮ | ⋮ | ⋮ | ⋮ | ⋮ |\n",
       "| ENSG00000210107.1 |     0 |     38 |    1 |     19 |      0 |\n",
       "| ENSG00000210112.1 |     0 |      1 |    0 |      0 |      1 |\n",
       "| ENSG00000198763.3 |   192 |  44640 |   60 |  78917 |  73717 |\n",
       "| ENSG00000210117.1 |   100 |     32 |  172 |     91 |     29 |\n",
       "| ENSG00000210127.1 |     0 |      0 |    0 |      3 |      1 |\n",
       "| ENSG00000210135.1 |     0 |      0 |    0 |      0 |      0 |\n",
       "| ENSG00000210140.1 |     0 |      0 |    0 |      0 |      1 |\n",
       "| ENSG00000210144.1 |     0 |      0 |    0 |      0 |      0 |\n",
       "| ENSG00000198804.2 | 12871 | 486939 | 7148 | 695244 | 733349 |\n",
       "| ENSG00000210151.2 |     0 |      0 |    0 |      0 |      0 |\n",
       "| ENSG00000210154.1 |     0 |      0 |    0 |      0 |      0 |\n",
       "| ENSG00000198712.1 |  1986 | 178683 |  574 | 203916 | 269259 |\n",
       "| ENSG00000210156.1 |     0 |      0 |    0 |      0 |      0 |\n",
       "| ENSG00000228253.1 |    16 |   8329 |    3 |  10633 |   6491 |\n",
       "| ENSG00000198899.2 |   262 |  49815 |   91 | 101744 |  71275 |\n",
       "| ENSG00000198938.2 |  4032 | 163602 | 2128 | 240621 | 201311 |\n",
       "| ENSG00000210164.1 |     0 |      0 |    0 |      0 |      0 |\n",
       "| ENSG00000198840.2 |   189 |  10056 |  129 |  24745 |  14095 |\n",
       "| ENSG00000210174.1 |     0 |      0 |    0 |      0 |      0 |\n",
       "| ENSG00000212907.2 |   118 |  23744 |   18 |  26213 |  35202 |\n",
       "| ENSG00000198886.2 |   638 | 242091 |  194 | 345393 | 473606 |\n",
       "| ENSG00000210176.1 |     0 |      0 |    0 |      0 |      0 |\n",
       "| ENSG00000210184.1 |     0 |      0 |    0 |      0 |      0 |\n",
       "| ENSG00000210191.1 |     0 |      0 |    0 |      0 |      0 |\n",
       "| ENSG00000198786.2 |   183 | 200406 |   69 | 308625 | 407183 |\n",
       "| ENSG00000198695.2 |     1 |    279 |   14 |     58 |    204 |\n",
       "| ENSG00000210194.1 |     0 |      0 |    0 |      1 |      0 |\n",
       "| ENSG00000198727.2 |   330 | 179933 |  132 | 245679 | 306535 |\n",
       "| ENSG00000210195.2 |     5 |    154 |    4 |    185 |    123 |\n",
       "| ENSG00000210196.2 |     3 |      0 |    8 |      0 |      0 |\n",
       "\n"
      ],
      "text/plain": [
       "                   s307256 s307257 s307258 s307259 s307260\n",
       "ENSG00000223972.5    5       6       0       0       1    \n",
       "ENSG00000227232.5  105     156     101     192      81    \n",
       "ENSG00000278267.1    0       1       0       0       0    \n",
       "ENSG00000243485.5    0       1       0       1       1    \n",
       "ENSG00000284332.1    0       0       0       0       0    \n",
       "ENSG00000237613.2    0       0       0       0       0    \n",
       "ENSG00000268020.3    0       0       0       0       0    \n",
       "ENSG00000240361.1    0       0       0       0       0    \n",
       "ENSG00000186092.4    0       0       0       0       0    \n",
       "ENSG00000238009.6   18       0      11       0       0    \n",
       "ENSG00000239945.1    0       0       0       0       0    \n",
       "ENSG00000233750.3    0       0       0       0       0    \n",
       "ENSG00000268903.1   20       1      25       1       1    \n",
       "ENSG00000269981.1    0       2       0       4       2    \n",
       "ENSG00000239906.1    1       0       5       0       0    \n",
       "ENSG00000241860.6   79       8      38       4       3    \n",
       "ENSG00000222623.1    0       0       0       0       0    \n",
       "ENSG00000241599.1    0       0       0       0       0    \n",
       "ENSG00000279928.2    3       1       2       4       0    \n",
       "ENSG00000279457.4  227     354     232     443     241    \n",
       "ENSG00000273874.1    0       0       0       0       0    \n",
       "ENSG00000228463.9   19      35      53      20       7    \n",
       "ENSG00000241670.3    0       0       0       0       0    \n",
       "ENSG00000236679.2    0       0       0       0       0    \n",
       "ENSG00000236743.1    0       0       0       0       0    \n",
       "ENSG00000236601.2    0       0       0       0       0    \n",
       "ENSG00000237094.11  15       7      17       4       3    \n",
       "ENSG00000269732.1    0       0       0       0       0    \n",
       "ENSG00000278566.1    0       0       0       0       0    \n",
       "ENSG00000224813.3    0       0       0       0       0    \n",
       "⋮                  ⋮       ⋮       ⋮       ⋮       ⋮      \n",
       "ENSG00000210107.1      0       38     1        19       0 \n",
       "ENSG00000210112.1      0        1     0         0       1 \n",
       "ENSG00000198763.3    192    44640    60     78917   73717 \n",
       "ENSG00000210117.1    100       32   172        91      29 \n",
       "ENSG00000210127.1      0        0     0         3       1 \n",
       "ENSG00000210135.1      0        0     0         0       0 \n",
       "ENSG00000210140.1      0        0     0         0       1 \n",
       "ENSG00000210144.1      0        0     0         0       0 \n",
       "ENSG00000198804.2  12871   486939  7148    695244  733349 \n",
       "ENSG00000210151.2      0        0     0         0       0 \n",
       "ENSG00000210154.1      0        0     0         0       0 \n",
       "ENSG00000198712.1   1986   178683   574    203916  269259 \n",
       "ENSG00000210156.1      0        0     0         0       0 \n",
       "ENSG00000228253.1     16     8329     3     10633    6491 \n",
       "ENSG00000198899.2    262    49815    91    101744   71275 \n",
       "ENSG00000198938.2   4032   163602  2128    240621  201311 \n",
       "ENSG00000210164.1      0        0     0         0       0 \n",
       "ENSG00000198840.2    189    10056   129     24745   14095 \n",
       "ENSG00000210174.1      0        0     0         0       0 \n",
       "ENSG00000212907.2    118    23744    18     26213   35202 \n",
       "ENSG00000198886.2    638   242091   194    345393  473606 \n",
       "ENSG00000210176.1      0        0     0         0       0 \n",
       "ENSG00000210184.1      0        0     0         0       0 \n",
       "ENSG00000210191.1      0        0     0         0       0 \n",
       "ENSG00000198786.2    183   200406    69    308625  407183 \n",
       "ENSG00000198695.2      1      279    14        58     204 \n",
       "ENSG00000210194.1      0        0     0         1       0 \n",
       "ENSG00000198727.2    330   179933   132    245679  306535 \n",
       "ENSG00000210195.2      5      154     4       185     123 \n",
       "ENSG00000210196.2      3        0     8         0       0 "
      ]
     },
     "metadata": {},
     "output_type": "display_data"
    },
    {
     "name": "stdout",
     "output_type": "stream",
     "text": [
      "[1] \"Dimensions of the count table:\"\n"
     ]
    },
    {
     "data": {
      "text/html": [
       "<style>\n",
       ".list-inline {list-style: none; margin:0; padding: 0}\n",
       ".list-inline>li {display: inline-block}\n",
       ".list-inline>li:not(:last-child)::after {content: \"\\00b7\"; padding: 0 .5ex}\n",
       "</style>\n",
       "<ol class=list-inline><li>58219</li><li>5</li></ol>\n"
      ],
      "text/latex": [
       "\\begin{enumerate*}\n",
       "\\item 58219\n",
       "\\item 5\n",
       "\\end{enumerate*}\n"
      ],
      "text/markdown": [
       "1. 58219\n",
       "2. 5\n",
       "\n",
       "\n"
      ],
      "text/plain": [
       "[1] 58219     5"
      ]
     },
     "metadata": {},
     "output_type": "display_data"
    }
   ],
   "source": [
    "# sample annotation and raw read counts\n",
    "#anno <- fread(\"./annotation.tsv\")[, 1:6]\n",
    "anno <- fread(\"/net/grc/vol6/mendelian_projects/udn_ucla_external_uwcmg_fam287604_rna_1/fam297604_annotation.tsv\")\n",
    "#cts  <- as.matrix(read.table(\"./outrider/raw_counts.tsv.gz\"))\n",
    "cts  <- as.matrix(read.table(\"/net/grc/vol6/mendelian_projects/udn_ucla_external_uwcmg_fam287604_rna_1/fam297604_counts.tsv\"))\n",
    "# look into the data\n",
    "head(anno)\n",
    "print(\"Dimensions of the annotation:\")\n",
    "dim(anno)\n",
    "dim(cts)\n",
    "cts\n",
    "print(\"Dimensions of the count table:\")\n",
    "dim(cts)"
   ]
  },
  {
   "cell_type": "code",
   "execution_count": 50,
   "metadata": {},
   "outputs": [],
   "source": [
    "#cts"
   ]
  },
  {
   "cell_type": "code",
   "execution_count": 54,
   "metadata": {},
   "outputs": [
    {
     "name": "stderr",
     "output_type": "stream",
     "text": [
      "Warning message in OutriderDataSet(countData = cts, colData = anno):\n",
      "“No sampleID was specified. We will generate a generic one.”\n"
     ]
    },
    {
     "data": {
      "text/plain": [
       "class: OutriderDataSet\n",
       "class: RangedSummarizedExperiment \n",
       "dim: 58219 5 \n",
       "metadata(1): version\n",
       "assays(1): counts\n",
       "rownames(58219): ENSG00000223972.5 ENSG00000227232.5 ...\n",
       "  ENSG00000210195.2 ENSG00000210196.2\n",
       "rowData names(0):\n",
       "colnames(5): s307256 s307257 s307258 s307259 s307260\n",
       "colData names(13): \"RNA_ID\" \"SEX\" ... \"sampleID\" sampleID"
      ]
     },
     "metadata": {},
     "output_type": "display_data"
    }
   ],
   "source": [
    "#anno[,sampleID:=INDIVIDUAL]\n",
    "ods3 <- OutriderDataSet(countData=cts, colData=anno)\n",
    "ods3"
   ]
  },
  {
   "cell_type": "markdown",
   "metadata": {},
   "source": [
    "# counts based analyses use a size factor to control for sequencing effort - estimate that\n",
    "Size factor\n",
    "One important metric is the sizeFactor. The sizeFactor represents the sequencing depth of each sample with respect to the others and is centered around 1. The sizeFactor can be estimated with estimateSizeFactors based on the DESeq2 function. In gene expression analysis, one of the first normalization steps is done using the sizeFactor.\n",
    "\n"
   ]
  },
  {
   "cell_type": "code",
   "execution_count": 69,
   "metadata": {},
   "outputs": [
    {
     "ename": "ERROR",
     "evalue": "Error in file(con, \"rb\"): cannot open the connection\n",
     "output_type": "error",
     "traceback": [
      "Error in file(con, \"rb\"): cannot open the connection\nTraceback:\n"
     ]
    },
    {
     "data": {
      "text/plain": [
       "plot without title"
      ]
     },
     "metadata": {
      "image/png": {
       "height": 300,
       "width": 360
      }
     },
     "output_type": "display_data"
    }
   ],
   "source": [
    "# estimate sizeFactors \n",
    "ods2 <- estimateSizeFactors(ods3)\n",
    "\n",
    "# visualize the sizeFactors\n",
    "plotSizeFactors(ods2)"
   ]
  },
  {
   "cell_type": "code",
   "execution_count": 65,
   "metadata": {},
   "outputs": [
    {
     "data": {
      "text/html": [
       "<style>\n",
       ".dl-inline {width: auto; margin:0; padding: 0}\n",
       ".dl-inline>dt, .dl-inline>dd {float: none; width: auto; display: inline-block}\n",
       ".dl-inline>dt::after {content: \":\\0020\"; padding-right: .5ex}\n",
       ".dl-inline>dt:not(:first-of-type) {padding-left: .5ex}\n",
       "</style><dl class=dl-inline><dt>s307256</dt><dd>0.78</dd><dt>s307258</dt><dd>0.88</dd><dt>s307260</dt><dd>1.01</dd><dt>s307257</dt><dd>1.22</dd><dt>s307259</dt><dd>1.25</dd></dl>\n"
      ],
      "text/latex": [
       "\\begin{description*}\n",
       "\\item[s307256] 0.78\n",
       "\\item[s307258] 0.88\n",
       "\\item[s307260] 1.01\n",
       "\\item[s307257] 1.22\n",
       "\\item[s307259] 1.25\n",
       "\\end{description*}\n"
      ],
      "text/markdown": [
       "s307256\n",
       ":   0.78s307258\n",
       ":   0.88s307260\n",
       ":   1.01s307257\n",
       ":   1.22s307259\n",
       ":   1.25\n",
       "\n"
      ],
      "text/plain": [
       "s307256 s307258 s307260 s307257 s307259 \n",
       "   0.78    0.88    1.01    1.22    1.25 "
      ]
     },
     "metadata": {},
     "output_type": "display_data"
    }
   ],
   "source": [
    "#Let's have a look at the samples with the lowest sizeFactor.\n",
    "round(sort(sizeFactors(ods2)), digits=2)[1:5]"
   ]
  },
  {
   "cell_type": "markdown",
   "metadata": {},
   "source": [
    "# Filter non-expressed genes\n",
    "Not all genes are expressed in a given tissue/sample. It depends on the tissues and the sequencing depth how many expressed genes are expected.\n",
    "\n",
    "To make the modelling and outlier detection more robust, a good filtering of non-expressed genes is crucial. The cutoffs are dependent on the project and should be defined beforehand. The FPKM value (fragments per kilobase of million mapped reads) is a good measurement for this. [TPM is better]\n",
    "\n",
    "Here, we keep genes where at least 5% of the samples have an FPKM/TPM value greater than 1.\n",
    "\n",
    "To compute the FPKM value, we need the gene length from the annotation file."
   ]
  },
  {
   "cell_type": "code",
   "execution_count": 61,
   "metadata": {},
   "outputs": [
    {
     "name": "stderr",
     "output_type": "stream",
     "text": [
      "Warning message in computeGeneLength(object, gtfFile = gtfFile, ...):\n",
      "“Some genes (n=52897) are not found in the annotation. Setting 'basepairs' == 1. The first 6 names are:\n",
      "ENSG00000223972.5, ENSG00000227232.5, ENSG00000278267.1, ENSG00000243485.5, ENSG00000284332.1, ENSG00000237613.2”\n",
      "25097 genes did not pass the filter. This is 43.1% of the genes.\n",
      "\n"
     ]
    }
   ],
   "source": [
    "# load gene annotation to compute FPKM values\n",
    "txdb <- loadDb(\"annotations/gencode.v29lift37.annotation.txdb\")\n",
    "ods1 <- filterExpression(ods2, gtfFile=txdb, filterGenes=FALSE)"
   ]
  },
  {
   "cell_type": "code",
   "execution_count": 66,
   "metadata": {},
   "outputs": [
    {
     "name": "stderr",
     "output_type": "stream",
     "text": [
      "173187 sample-gene combinations are zero. This is 59.5% of the data\n",
      "\n"
     ]
    },
    {
     "ename": "ERROR",
     "evalue": "Error in file(con, \"rb\"): cannot open the connection\n",
     "output_type": "error",
     "traceback": [
      "Error in file(con, \"rb\"): cannot open the connection\nTraceback:\n"
     ]
    },
    {
     "data": {
      "text/plain": [
       "plot without title"
      ]
     },
     "metadata": {
      "image/png": {
       "height": 300,
       "width": 360
      }
     },
     "output_type": "display_data"
    }
   ],
   "source": [
    "# FPKM distribution across all sample/gene pairs\n",
    "plotFPKM(ods1) + theme(legend.position = 'bottom')"
   ]
  },
  {
   "cell_type": "code",
   "execution_count": 70,
   "metadata": {},
   "outputs": [
    {
     "data": {
      "text/plain": [
       "class: OutriderDataSet\n",
       "class: RangedSummarizedExperiment \n",
       "dim: 33122 5 \n",
       "metadata(1): version\n",
       "assays(1): counts\n",
       "rownames(33122): ENSG00000223972.5 ENSG00000227232.5 ...\n",
       "  ENSG00000210195.2 ENSG00000210196.2\n",
       "rowData names(3): loggeomeans passedFilter basepairs\n",
       "colnames(5): s307256 s307257 s307258 s307259 s307260\n",
       "colData names(19): sampleID X.RNA_ID. ... passedFilterGenes\n",
       "  expressedGenesRank"
      ]
     },
     "metadata": {},
     "output_type": "display_data"
    }
   ],
   "source": [
    "# filter object based on the expression status of the genes\n",
    "ods <- ods1[mcols(ods1)[,\"passedFilter\"],]\n",
    "ods"
   ]
  },
  {
   "cell_type": "code",
   "execution_count": 72,
   "metadata": {},
   "outputs": [
    {
     "ename": "ERROR",
     "evalue": "Error: subscript contains invalid names\n",
     "output_type": "error",
     "traceback": [
      "Error: subscript contains invalid names\nTraceback:\n",
      "1. plotCountCorHeatmap(ods, colGroups = c(\"ORIGIN\"), rowGroups = \"LAB\", \n .     normalize = FALSE)",
      "2. plotCountCorHeatmap(ods, colGroups = c(\"ORIGIN\"), rowGroups = \"LAB\", \n .     normalize = FALSE)",
      "3. .local(object, ...)",
      "4. getAnnoHeatmap(x = object, matrix = ctscor, groups = rowGroups, \n .     nClust = nRowCluster, extractFun = colData)",
      "5. as.data.frame(extractFun(x)[, groups])",
      "6. extractFun(x)[, groups]",
      "7. extractFun(x)[, groups]",
      "8. extractCOLS(x, j)",
      "9. extractCOLS(x, j)",
      "10. normalizeSingleBracketSubscript(i, xstub)",
      "11. NSBS(i, x, exact = exact, strict.upper.bound = !allow.append, \n  .     allow.NAs = allow.NAs)",
      "12. NSBS(i, x, exact = exact, strict.upper.bound = !allow.append, \n  .     allow.NAs = allow.NAs)",
      "13. .subscript_error(\"subscript contains invalid \", what)",
      "14. stop(wmsg(...), call. = FALSE)"
     ]
    }
   ],
   "source": [
    "#Sample co-variation (especially when the same samples or fraction of relevant response variables go to different places be careful!)\n",
    "# Usually in RNA-seq data one can see sample co-variation and hence should control for that. \n",
    "# In most of the cases one knows the cause of the structure (eg. sex, origin, batch) but \n",
    "# sometimes it comes from unkown confounders. For more details see slides.\n",
    "\n",
    "# Make heatmap figure bigger\n",
    "options(repr.plot.width=6, repr.plot.height=5)\n",
    "\n",
    "# use normalize=FALSE since the data is not yet corrected\n",
    "# use columns from the annotation to add labels to the heatmap\n",
    "plotCountCorHeatmap(ods, colGroups=c(\"ORIGIN\"), \n",
    "        rowGroups=\"LAB\", normalize=FALSE)"
   ]
  },
  {
   "cell_type": "code",
   "execution_count": 74,
   "metadata": {},
   "outputs": [
    {
     "data": {
      "text/html": [
       "<style>\n",
       ".list-inline {list-style: none; margin:0; padding: 0}\n",
       ".list-inline>li {display: inline-block}\n",
       ".list-inline>li:not(:last-child)::after {content: \"\\00b7\"; padding: 0 .5ex}\n",
       "</style>\n",
       "<ol class=list-inline><li>'\"RNA_ID\"'</li><li>'\"SEX\"'</li><li>'\"ORIGIN\"'</li><li>'\"LAB\"'</li><li>'\"INDIVIDUAL\"'</li><li>'\"phase1TG\"'</li><li>'\"OUTRIDER_GROUP\"'</li><li>'\"PAIRED_END\"'</li><li>'\"COUNT_MODE\"'</li><li>'\"COUNT_OVERLAP\"'</li><li>'\"COUNT_AS_STRANDED\"'</li><li>'\"sampleID\"'</li></ol>\n"
      ],
      "text/latex": [
       "\\begin{enumerate*}\n",
       "\\item '\"RNA\\_ID\"'\n",
       "\\item '\"SEX\"'\n",
       "\\item '\"ORIGIN\"'\n",
       "\\item '\"LAB\"'\n",
       "\\item '\"INDIVIDUAL\"'\n",
       "\\item '\"phase1TG\"'\n",
       "\\item '\"OUTRIDER\\_GROUP\"'\n",
       "\\item '\"PAIRED\\_END\"'\n",
       "\\item '\"COUNT\\_MODE\"'\n",
       "\\item '\"COUNT\\_OVERLAP\"'\n",
       "\\item '\"COUNT\\_AS\\_STRANDED\"'\n",
       "\\item '\"sampleID\"'\n",
       "\\end{enumerate*}\n"
      ],
      "text/markdown": [
       "1. '\"RNA_ID\"'\n",
       "2. '\"SEX\"'\n",
       "3. '\"ORIGIN\"'\n",
       "4. '\"LAB\"'\n",
       "5. '\"INDIVIDUAL\"'\n",
       "6. '\"phase1TG\"'\n",
       "7. '\"OUTRIDER_GROUP\"'\n",
       "8. '\"PAIRED_END\"'\n",
       "9. '\"COUNT_MODE\"'\n",
       "10. '\"COUNT_OVERLAP\"'\n",
       "11. '\"COUNT_AS_STRANDED\"'\n",
       "12. '\"sampleID\"'\n",
       "\n",
       "\n"
      ],
      "text/plain": [
       " [1] \"\\\"RNA_ID\\\"\"            \"\\\"SEX\\\"\"               \"\\\"ORIGIN\\\"\"           \n",
       " [4] \"\\\"LAB\\\"\"               \"\\\"INDIVIDUAL\\\"\"        \"\\\"phase1TG\\\"\"         \n",
       " [7] \"\\\"OUTRIDER_GROUP\\\"\"    \"\\\"PAIRED_END\\\"\"        \"\\\"COUNT_MODE\\\"\"       \n",
       "[10] \"\\\"COUNT_OVERLAP\\\"\"     \"\\\"COUNT_AS_STRANDED\\\"\" \"\\\"sampleID\\\"\"         "
      ]
     },
     "metadata": {},
     "output_type": "display_data"
    }
   ],
   "source": [
    "colnames(anno)"
   ]
  },
  {
   "cell_type": "code",
   "execution_count": 80,
   "metadata": {},
   "outputs": [
    {
     "name": "stderr",
     "output_type": "stream",
     "text": [
      "Thu Jan 28 03:56:37 2021: SizeFactor estimation ...\n",
      "\n",
      "Thu Jan 28 03:56:37 2021: Controlling for confounders ...\n",
      "\n",
      "Thu Jan 28 03:56:37 2021: Using the autoencoder implementation for controlling.\n",
      "\n"
     ]
    },
    {
     "name": "stdout",
     "output_type": "stream",
     "text": [
      "[1] \"Thu Jan 28 03:56:47 2021: Initial PCA loss: 3.94498453926547\"\n",
      "  |======================================================================| 100%\n",
      "\n",
      "  |======================================================================| 100%\n",
      "\n",
      "  |======================================================================| 100%\n",
      "\n",
      "  |======================================================================| 100%\n",
      "\n",
      "[1] \"Thu Jan 28 04:44:00 2021: Iteration: 1 loss: 2.72834123481866\"\n",
      "  |======================================================================| 100%\n",
      "\n",
      "  |======================================================================| 100%\n",
      "\n",
      "[1] \"Thu Jan 28 05:07:14 2021: Iteration: 2 loss: 2.72556709952805\"\n",
      "  |======================================================================| 100%\n",
      "\n",
      "  |======================================================================| 100%\n",
      "\n",
      "[1] \"Thu Jan 28 05:30:38 2021: Iteration: 3 loss: 2.72466359815047\"\n",
      "  |======================================================================| 100%\n",
      "\n",
      "  |======================================================================| 100%\n",
      "\n",
      "[1] \"Thu Jan 28 05:53:59 2021: Iteration: 4 loss: 2.72425221242907\"\n",
      "  |======================================================================| 100%\n",
      "\n",
      "  |======================================================================| 100%\n",
      "\n",
      "[1] \"Thu Jan 28 06:17:24 2021: Iteration: 5 loss: 2.72390276418203\"\n",
      "  |======================================================================| 100%\n",
      "\n",
      "  |======================================================================| 100%\n",
      "\n",
      "[1] \"Thu Jan 28 06:40:53 2021: Iteration: 6 loss: 2.72366944830391\"\n",
      "  |======================================================================| 100%\n",
      "\n",
      "  |======================================================================| 100%\n",
      "\n",
      "[1] \"Thu Jan 28 07:04:16 2021: Iteration: 7 loss: 2.72344825044269\"\n",
      "  |======================================================================| 100%\n",
      "\n",
      "  |======================================================================| 100%\n",
      "\n",
      "[1] \"Thu Jan 28 07:27:38 2021: Iteration: 8 loss: 2.72323497190257\"\n",
      "  |======================================================================| 100%\n",
      "\n",
      "  |======================================================================| 100%\n",
      "\n",
      "[1] \"Thu Jan 28 07:51:02 2021: Iteration: 9 loss: 2.72305766240893\"\n",
      "  |======================================================================| 100%\n",
      "\n",
      "  |======================================================================| 100%\n",
      "\n",
      "[1] \"Thu Jan 28 08:14:23 2021: Iteration: 10 loss: 2.72293381756776\"\n",
      "  |======================================================================| 100%\n",
      "\n",
      "  |======================================================================| 100%\n",
      "\n",
      "[1] \"Thu Jan 28 08:37:41 2021: Iteration: 11 loss: 2.72284823472551\"\n",
      "  |======================================================================| 100%\n",
      "\n",
      "  |======================================================================| 100%\n",
      "\n",
      "[1] \"Thu Jan 28 09:00:57 2021: Iteration: 12 loss: 2.72278415437232\"\n",
      "  |======================================================================| 100%\n",
      "\n",
      "  |======================================================================| 100%\n",
      "\n",
      "[1] \"Thu Jan 28 09:24:26 2021: Iteration: 13 loss: 2.72271661839929\"\n",
      "  |======================================================================| 100%\n",
      "\n",
      "  |======================================================================| 100%\n",
      "\n",
      "[1] \"Thu Jan 28 09:47:50 2021: Iteration: 14 loss: 2.72264594155187\"\n",
      "  |======================================================================| 100%\n",
      "\n",
      "  |======================================================================| 100%\n",
      "\n",
      "[1] \"Thu Jan 28 10:11:24 2021: Iteration: 15 loss: 2.72259517200591\"\n",
      "Time difference of 5.846488 hours\n",
      "[1] \"Thu Jan 28 10:11:24 2021: 15 Final nb-AE loss: 2.72259517200591\"\n"
     ]
    },
    {
     "name": "stderr",
     "output_type": "stream",
     "text": [
      "Thu Jan 28 10:11:24 2021: Used the autoencoder implementation for controlling.\n",
      "\n",
      "Thu Jan 28 10:11:24 2021: P-value calculation ...\n",
      "\n"
     ]
    },
    {
     "name": "stdout",
     "output_type": "stream",
     "text": [
      "  |======================================================================| 100%\n",
      "\n"
     ]
    },
    {
     "name": "stderr",
     "output_type": "stream",
     "text": [
      "Thu Jan 28 10:23:12 2021: Zscore calculation ...\n",
      "\n"
     ]
    },
    {
     "ename": "ERROR",
     "evalue": "Error: subscript contains invalid names\n",
     "output_type": "error",
     "traceback": [
      "Error: subscript contains invalid names\nTraceback:\n",
      "1. plotCountCorHeatmap(ods, colGroups = c(\"SEX\", \"ORIGIN\"), rowGroups = \"LAB\", \n .     normalize = TRUE)",
      "2. plotCountCorHeatmap(ods, colGroups = c(\"SEX\", \"ORIGIN\"), rowGroups = \"LAB\", \n .     normalize = TRUE)",
      "3. .local(object, ...)",
      "4. getAnnoHeatmap(x = object, matrix = ctscor, groups = rowGroups, \n .     nClust = nRowCluster, extractFun = colData)",
      "5. as.data.frame(extractFun(x)[, groups])",
      "6. extractFun(x)[, groups]",
      "7. extractFun(x)[, groups]",
      "8. extractCOLS(x, j)",
      "9. extractCOLS(x, j)",
      "10. normalizeSingleBracketSubscript(i, xstub)",
      "11. NSBS(i, x, exact = exact, strict.upper.bound = !allow.append, \n  .     allow.NAs = allow.NAs)",
      "12. NSBS(i, x, exact = exact, strict.upper.bound = !allow.append, \n  .     allow.NAs = allow.NAs)",
      "13. .subscript_error(\"subscript contains invalid \", what)",
      "14. stop(wmsg(...), call. = FALSE)"
     ]
    }
   ],
   "source": [
    "#Detection of expression outlier events\n",
    "#We have loaded the data, did some quality control, and preprocessed (filtered) the data. Now we can start with the normalization and outlier detection.\n",
    "\n",
    "#Using a denoising autoencoder to correct for sample co-variations.\n",
    "\n",
    "#Fitting the model\n",
    "#We will now use OUTRIDER to model the sample co-variation, also called latent space, based on the given gene expression data. Using the correct dimension for the latent space is crucial for achieving the best performance. Finding the right dimension can be done with findEncodingDim().\n",
    "\n",
    "# use BiocParallel to compute in parallel\n",
    "register(MulticoreParam(workers=2, tasks=10, progressbar=TRUE))\n",
    "#​\n",
    "## As this step is heavy to compute we will use a prefitted model.\n",
    "## If you use your own data please uncomment it and run it.\n",
    "## It can take 30 minutes to complete depending on the sample/gene size.\n",
    "#ods <- readRDS(\"outrider/fitted_ods.RDS\")\n",
    "#​\n",
    "## Find the optimal dimension for the latent space\n",
    "# ods <- findEncodingDim(ods)\n",
    "#getBestQ(ods)\n",
    "#plotEncDimSearch(ods)\n",
    "#​\n",
    "## fit the OUTRIDER model\n",
    " ods <- OUTRIDER(ods, q=3)\n",
    "#Let's see how well the denoising autoencoder fitted the latent space of our data. Ideally, we should not see any cluster anymore and most of the plot should be rather white than red or blue except for the diagonal. Compare the dendogram with the previous heatmap. What do you observe?\n",
    "\n",
    "plotCountCorHeatmap(ods, colGroups=c(\"SEX\", \"ORIGIN\"), \n",
    "        rowGroups=\"LAB\", normalize=TRUE)"
   ]
  },
  {
   "cell_type": "markdown",
   "metadata": {},
   "source": [
    "Detection of expression outliers\n",
    "After fitting the model and correcting for sample co-variations, we can now obtain our expression outliers. Here, we define an outlier as an event that significantly deviates from the expected Negative-Binomial distribution after controlling for confounders. For details see slides.\n",
    "\n",
    "no image\n",
    "The two-sided p value is defined as:\n",
    "\n",
    "𝑃(𝑘𝑖𝑗)=2⋅min(12,∑𝑘𝑖𝑗𝑘=0𝑁𝐵(𝑘𝑖𝑗|𝜇𝑖𝑗),𝜃𝑗),1−∑𝑘𝑖𝑗𝑘=0𝑁𝐵(𝑘𝑖𝑗|𝜇𝑖𝑗,𝜃𝑗)) ,\n",
    "\n",
    "with a genome-wide significance threshold of  𝐹𝐷𝑅<0.05 .\n",
    "\n",
    "Let's check how many expression outliers per sample were found.\n",
    "\n"
   ]
  },
  {
   "cell_type": "code",
   "execution_count": 76,
   "metadata": {},
   "outputs": [
    {
     "ename": "ERROR",
     "evalue": "Error in checkFullAnalysis(object): Please calculate the P-values before calling the 'IRkernel::main' function. Please do: ods <- computePvalues(ods)\n",
     "output_type": "error",
     "traceback": [
      "Error in checkFullAnalysis(object): Please calculate the P-values before calling the 'IRkernel::main' function. Please do: ods <- computePvalues(ods)\nTraceback:\n",
      "1. plotAberrantPerSample(ods)",
      "2. plotAberrantPerSample(ods)",
      "3. .local(object, ...)",
      "4. sort(aberrant(object, by = \"sample\", ...))",
      "5. aberrant(object, by = \"sample\", ...)",
      "6. aberrant(object, by = \"sample\", ...)",
      "7. .local(object, ...)",
      "8. checkFullAnalysis(object)",
      "9. stop(\"Please calculate the P-values before calling the '\", funName, \n .     \"' function. Please do: ods <- computePvalues(ods)\")"
     ]
    }
   ],
   "source": [
    "# an event that significantly deviates from the expected Negative-Binomial distribution after controlling for confounders\n",
    "plotAberrantPerSample(ods)"
   ]
  },
  {
   "cell_type": "markdown",
   "metadata": {},
   "source": [
    "Z score approach\n",
    "There are many different ways to define outliers. One common approach is to compute a Z score and then define outliers as  |𝑧|>3  or  |𝑧|>2 . In our OUTRIDER publication, we recommend to use a statistical assesment for defining outliers over the Z score approach.\n",
    "\n",
    "Despite our recommendation, one can use OUTRIDER to retrieve Z score derived outliers by setting padjCutoff=1 and zScoreCutoff=2 or another value of choice.\n",
    "\n"
   ]
  },
  {
   "cell_type": "code",
   "execution_count": 77,
   "metadata": {},
   "outputs": [
    {
     "ename": "ERROR",
     "evalue": "Error in checkFullAnalysis(object): Please calculate the P-values before calling the 'IRkernel::main' function. Please do: ods <- computePvalues(ods)\n",
     "output_type": "error",
     "traceback": [
      "Error in checkFullAnalysis(object): Please calculate the P-values before calling the 'IRkernel::main' function. Please do: ods <- computePvalues(ods)\nTraceback:\n",
      "1. plotAberrantPerSample(ods, padjCutoff = 1, zScoreCutoff = 2, \n .     yadjust = c(1.3, 1.4))",
      "2. plotAberrantPerSample(ods, padjCutoff = 1, zScoreCutoff = 2, \n .     yadjust = c(1.3, 1.4))",
      "3. .local(object, ...)",
      "4. sort(aberrant(object, by = \"sample\", ...))",
      "5. aberrant(object, by = \"sample\", ...)",
      "6. aberrant(object, by = \"sample\", ...)",
      "7. .local(object, ...)",
      "8. checkFullAnalysis(object)",
      "9. stop(\"Please calculate the P-values before calling the '\", funName, \n .     \"' function. Please do: ods <- computePvalues(ods)\")"
     ]
    }
   ],
   "source": [
    "plotAberrantPerSample(ods, padjCutoff=1, zScoreCutoff=2, yadjust=c(1.3,1.4))"
   ]
  },
  {
   "cell_type": "code",
   "execution_count": 78,
   "metadata": {},
   "outputs": [],
   "source": [
    "#in order to make the results table more intuitive, we now change the ENSEMBL gene IDs into HGNC symbols. For this we use the annotables package.\n",
    "\n",
    "# remove versioning of gene IDs and merge with GRCh37 from annotables\n",
    "geneIDs <- gsub(\"\\\\.[0-9]*(_[0-9]*)?.*$\", \"\", rownames(ods))\n",
    "map <- merge(data.table(ensgene=geneIDs), grch37, sort=FALSE,\n",
    "        all.x=TRUE)[!duplicated(ensgene),]\n",
    "#​\n",
    "# set new gene names only if hgnc symbol is present\n",
    "if(!\"ENSG\" %in% colnames(mcols(ods))){\n",
    "    mcols(ods)$ENSG <- geneIDs\n",
    "    rownames(ods) <- map[,ifelse(\n",
    "            is.na(symbol) | symbol == \"\" | duplicated(symbol), geneIDs, symbol)]\n",
    "}\n",
    "#Now we can retrieve our expression outliers using the results function.\n",
    "\n"
   ]
  },
  {
   "cell_type": "code",
   "execution_count": null,
   "metadata": {},
   "outputs": [],
   "source": [
    "res <- results(ods)\n",
    "head(res)\n",
    "dim(res)"
   ]
  },
  {
   "cell_type": "code",
   "execution_count": null,
   "metadata": {},
   "outputs": [],
   "source": [
    "# volcano plot of sample NA18873\n",
    "plotVolcano(ods, \"NA18873\", base=TRUE)"
   ]
  },
  {
   "cell_type": "code",
   "execution_count": null,
   "metadata": {},
   "outputs": [],
   "source": [
    "# subset results for this patient\n",
    "res[sampleID == \"NA18873\"]"
   ]
  },
  {
   "cell_type": "code",
   "execution_count": null,
   "metadata": {},
   "outputs": [],
   "source": [
    "# make the plot again default size\n",
    "options(repr.plot.width=8, repr.plot.height=4)\n",
    "\n",
    "ggarrange(ncol=2,\n",
    "    plotExpressionRank(ods, \"TIMMDC1\", norm=FALSE, basePlot=TRUE) + scale_y_log10(lim=c(300,2000)),\n",
    "    plotExpressionRank(ods, \"TIMMDC1\", norm=TRUE,  basePlot=TRUE) + scale_y_log10(lim=c(300,2000)))"
   ]
  },
  {
   "cell_type": "code",
   "execution_count": null,
   "metadata": {},
   "outputs": [],
   "source": [
    "# set again the default size for the plot\n",
    "options(repr.plot.width=4, repr.plot.height=4)\n",
    "\n",
    "plotQQ(ods, \"TIMMDC1\")"
   ]
  },
  {
   "cell_type": "code",
   "execution_count": null,
   "metadata": {},
   "outputs": [],
   "source": [
    "# make the plot wider\n",
    "options(repr.plot.width=8, repr.plot.height=4)\n",
    "\n",
    "# Volcano plot with significance based on p value or on Z score threshold\n",
    "ggarrange(ncol=2,\n",
    "    plotVolcano(ods, \"NA11918\", main=\"FDR (<0.05) based volcano plot\", \n",
    "            base=TRUE, padjCutoff=0.05, zScoreCutoff=0),\n",
    "    plotVolcano(ods, \"NA11918\", main=\"Z score (>3) based volcano plot\",\n",
    "            base=TRUE, padjCutoff=1, zScoreCutoff=3))"
   ]
  },
  {
   "cell_type": "code",
   "execution_count": null,
   "metadata": {},
   "outputs": [],
   "source": [
    "# subset results for this patient (p value based)\n",
    "res[sampleID == \"NA11918\"]"
   ]
  },
  {
   "cell_type": "code",
   "execution_count": null,
   "metadata": {},
   "outputs": [],
   "source": [
    "resZscore <- results(ods, padjCutoff=1, zScoreCutoff=3)\n",
    "resZscore[sampleID == \"NA11918\"]"
   ]
  },
  {
   "cell_type": "markdown",
   "metadata": {},
   "source": [
    "# ------------------- Outlier Analysis Done! -------------------------------------"
   ]
  },
  {
   "cell_type": "markdown",
   "metadata": {},
   "source": [
    "# Aberrant Splicing Detection in RNA-seq data\n",
    "A short introduction to splicing can be found in presentation here.\n",
    "\n",
    "# Data import\n",
    "First, we have to load the FRASER package that we will use to run the full aberrant splicing analysis. For efficient data handling and visualization we further load data.table, ggplot2, and ggpubr."
   ]
  },
  {
   "cell_type": "code",
   "execution_count": null,
   "metadata": {},
   "outputs": [],
   "source": [
    "library(FRASER)\n",
    "library(data.table)\n",
    "library(ggplot2)\n",
    "library(ggpubr)\n",
    "register(SerialParam())"
   ]
  },
  {
   "cell_type": "code",
   "execution_count": null,
   "metadata": {},
   "outputs": [],
   "source": [
    "# load gene annotation to compute FPKM values\n",
    "txdb <- loadDb(\"annotations/gencode.v29lift37.annotation.txdb\")\n",
    "ods <- filterExpression(ods, gtfFile=txdb, filterGenes=FALSE)"
   ]
  },
  {
   "cell_type": "code",
   "execution_count": null,
   "metadata": {},
   "outputs": [],
   "source": [
    "# load and prepare annotation (add needed columns for FRASER)\n",
    "anno <- fread(\"annotation.tsv\")[,1:6]\n",
    "anno[, sampleID:=INDIVIDUAL]\n",
    "## only needed if you start from BAM files and need to count reads first\n",
    "# anno[, bamFile:=\"<path/to/sample/bam/file>\"]\n",
    "\n",
    "# get raw counts (remove first column since it is the row index)\n",
    "junctionCts   <- fread(\"./splicing/raw_junction_counts.tsv.gz\")\n",
    "spliceSiteCts <- fread(\"./splicing/raw_site_counts.tsv.gz\")"
   ]
  },
  {
   "cell_type": "code",
   "execution_count": null,
   "metadata": {},
   "outputs": [],
   "source": [
    "anno[,sampleID:=INDIVIDUAL]\n",
    "ods <- OutriderDataSet(countData=cts, colData=anno)\n",
    "ods"
   ]
  },
  {
   "cell_type": "code",
   "execution_count": null,
   "metadata": {},
   "outputs": [],
   "source": [
    "head(anno)\n",
    "junctionCts[1:6,1:15]\n",
    "spliceSiteCts[1:6,1:15]"
   ]
  },
  {
   "cell_type": "code",
   "execution_count": null,
   "metadata": {},
   "outputs": [],
   "source": [
    "# create FRASER object\n",
    "fds <- FraserDataSet(colData=anno, junctions=junctionCts, \n",
    "        spliceSites=spliceSiteCts)\n",
    "fds"
   ]
  },
  {
   "cell_type": "raw",
   "metadata": {},
   "source": [
    "We will only use a subset to run a fast analysis. Let's take only 3 chromosomes and random 60 samples (keep our cases). Also to speed up the processing, we keep the full data in memory and not on disk using HDF5. We will provide a full fitted model later."
   ]
  },
  {
   "cell_type": "code",
   "execution_count": null,
   "metadata": {},
   "outputs": [],
   "source": [
    "# randomly subset samples \n",
    "set.seed(42)\n",
    "patient_ids <- c(\"NA11918\", \"NA20505\", \"HG00132\")\n",
    "fds <- fds[\n",
    "    seqnames(fds) %in% c(\"chr3\", \"chr6\", \"chr19\"),\n",
    "    unique(c(patient_ids, sample(colnames(fds))))[1:60]]\n",
    "dontWriteHDF5(fds) <- TRUE\n",
    "fds"
   ]
  },
  {
   "cell_type": "markdown",
   "metadata": {},
   "source": [
    "## Data preprocessing and QC\n",
    "\n",
    "As with gene expression analysis, a good quality control of the raw data is crucial. As we will not go into detail here, please refer for some hints to the [gene expression slides](https://docs.google.com/presentation/d/1a7KZ6FXwVmGqF-FMAnz0QTk07WgzRWAbFhSNrUBspIQ/edit?pli=1#slide=id.g64b01c344e_4_51)."
   ]
  },
  {
   "cell_type": "markdown",
   "metadata": {},
   "source": [
    "### Filtering the data\n",
    "\n",
    "Before we can filter the data, we have to compute the main splicing metric: the $\\psi$-values (Percent Spliced In) and $\\theta$-values (splicing efficiency)."
   ]
  },
  {
   "cell_type": "code",
   "execution_count": null,
   "metadata": {},
   "outputs": [],
   "source": [
    "fds <- calculatePSIValues(fds) # take 1-2 minutes"
   ]
  },
  {
   "cell_type": "code",
   "execution_count": null,
   "metadata": {
    "id": "KzraaqJ106PO"
   },
   "outputs": [],
   "source": [
    "fds <- filterExpressionAndVariability(fds, minDeltaPsi=0.1, filter=FALSE)"
   ]
  },
  {
   "cell_type": "code",
   "execution_count": null,
   "metadata": {
    "id": "s-NGNG26fIVC"
   },
   "outputs": [],
   "source": [
    "# make the plot wider\n",
    "options(repr.plot.width=5, repr.plot.height=4)\n",
    "\n",
    "plotFilterExpression(fds, bins=100)\n",
    "plotFilterVariability(fds) + theme(legend.position=\"none\")"
   ]
  },
  {
   "cell_type": "markdown",
   "metadata": {
    "id": "4mYvizpHOTfu"
   },
   "source": [
    "After looking at the expression distribution between filtered and unfiltered junctions, we can now subset the dataset. We mainly see that we discarded junctions with overall low expression, which was the intention."
   ]
  },
  {
   "cell_type": "code",
   "execution_count": null,
   "metadata": {
    "id": "QtUe48dmgCu6"
   },
   "outputs": [],
   "source": [
    "fds <- fds[mcols(fds, type=\"j\")[,\"passed\"],]\n",
    "fds"
   ]
  },
  {
   "cell_type": "markdown",
   "metadata": {
    "id": "JPsiZI9gPV2j"
   },
   "source": [
    "### Sample co-variation\n",
    "\n",
    "Since $\\psi$ values are ratios within a sample, one might think that there should not be as much correlation structure as observed in gene expression data within the splicing data.\n",
    "\n",
    "This is not true as we do see strong sample co-variation within many tissues and cohorts. Let's have a look into our data to see if we do have correlation structure or not. To have a better estimate, we use the logit transformed $\\psi$ values to compute the correlation. We can annotate our plot with any information provided through the sample annotation."
   ]
  },
  {
   "cell_type": "code",
   "execution_count": null,
   "metadata": {},
   "outputs": [],
   "source": [
    "# I think this gets at detectability given degredation of 5' ends of samples DJM"
   ]
  },
  {
   "cell_type": "code",
   "execution_count": null,
   "metadata": {
    "id": "lUir1fG1Oh6T"
   },
   "outputs": [],
   "source": [
    "# Make heatmap figure bigger\n",
    "options(repr.plot.width=6, repr.plot.height=5)\n",
    "\n",
    "plotCountCorHeatmap(fds, type=\"psi5\", logit=TRUE, sampleClustering=NA, \n",
    "        annotation_col=c(\"SEX\", \"LAB\", \"ORIGIN\"))\n",
    "plotCountCorHeatmap(fds, type=\"psi3\", logit=TRUE, sampleClustering=NA, \n",
    "        annotation_col=c(\"SEX\", \"LAB\", \"ORIGIN\"))"
   ]
  },
  {
   "cell_type": "markdown",
   "metadata": {
    "id": "Rg14hsSbQ07v"
   },
   "source": [
    "## Detection of aberrant splicing events\n",
    "\n",
    "After preprocessing the raw data and visualizing it, we can start our analysis. Let's start with the first step in aberrant splicing detection: the model fitting."
   ]
  },
  {
   "cell_type": "markdown",
   "metadata": {
    "id": "h3pBQc30thTU"
   },
   "source": [
    "\n",
    "### Fitting the splicing model\n",
    "\n",
    "During the fitting procedure, we will normalize the splicing data and correct for confounding effects by using a denoising autoencoder. Using the correct dimension for the latent space is crucial to have the best performance. Finding the right dimension can be done with `optimHyperParams()`."
   ]
  },
  {
   "cell_type": "code",
   "execution_count": null,
   "metadata": {
    "id": "ZEBXzaoOQ070"
   },
   "outputs": [],
   "source": [
    "# use BiocParallel to compute in parallel\n",
    "register(MulticoreParam(workers=2, tasks=10, progressbar=TRUE))\n",
    "\n",
    "## As this step is heavy to compute, we will use a prefitted model.\n",
    "## If you use your own data please uncomment it and run it.\n",
    "## It can take 30 minutes to complete depending on the sample/gene size.\n",
    "## fds <- readRDS(\"splicing/fitted_fds.RDS\")\n",
    "\n",
    "## Find the optimal dimension for the latent space # I ran this see below\n",
    "#for(i in c('psi3','psi5')){\n",
    "#    fds <- optimHyperParams(fds, i)\n",
    "#    bestQ(fds, i)\n",
    "#    plotEncDimSearch(fds, i)\n",
    "#}\n",
    "\n",
    "## fit the FRASER model\n",
    "fds <- FRASER(fds)"
   ]
  },
  {
   "cell_type": "markdown",
   "metadata": {
    "id": "0qLLcEvET6QX"
   },
   "source": [
    "Let's see how well the correction worked by looking at the correlation heatmap again."
   ]
  },
  {
   "cell_type": "code",
   "execution_count": null,
   "metadata": {
    "id": "jLqkLPNjWfUm"
   },
   "outputs": [],
   "source": [
    "plotCountCorHeatmap(fds, type=\"psi5\", normalized=TRUE, logit=TRUE, topN=15000, \n",
    "        annotation_col=c(\"SEX\", \"LAB\", \"ORIGIN\"), sampleClustering=NA)"
   ]
  },
  {
   "cell_type": "markdown",
   "metadata": {
    "id": "fXLx33RpWH3C"
   },
   "source": [
    "### Calling splicing outliers\n",
    "\n",
    "For aberrant splicing detection, we assume a beta binomial distribution and call outliers based on the significance level. But again the user can choose between a p value cutoff, a Z score cutoff or both. We do recommend to use a pure p value cutoff.\n",
    "\n",
    "Let's have a look how many splicing outliers we detect by sample."
   ]
  },
  {
   "cell_type": "code",
   "execution_count": null,
   "metadata": {
    "id": "LlEnnQ7RWG0-"
   },
   "outputs": [],
   "source": [
    "plotAberrantPerSample(fds)"
   ]
  },
  {
   "cell_type": "markdown",
   "metadata": {
    "id": "KwZgc1tmu8Vz"
   },
   "source": [
    "Again, before we extract the results let's add the interpretable HGNC symbols. *FRASER* comes already with an annotation function. The function uses a user provided TxDb object (defaults to *UCSC.hg19*) to overlap the genomic ranges with the known HGNC symbols. "
   ]
  },
  {
   "cell_type": "raw",
   "metadata": {},
   "source": [
    "fds<- annotateRangesWithTxDb(\n",
    "  fds,\n",
    "  feature = \"SYMBOL\",\n",
    "  featureName = \"hgnc_symbol\",\n",
    "  keytype = \"ENTREZID\",\n",
    "  txdb = txdb)"
   ]
  },
  {
   "cell_type": "code",
   "execution_count": null,
   "metadata": {
    "id": "fiTBJnbPWmfS"
   },
   "outputs": [],
   "source": [
    "# annotate\n",
    "#fds <- annotateRangesWithTxDb(fds,txdb = txdb, orgDb = 'org.Hs.eg.db')\n",
    "#fds <- annotateRangesWithTxDb(fds,featureName=\"hgnc_symbol_37\", GRCh=37)\n",
    "#require(TxDb.Hsapiens.UCSC.hg19.knownGene)\n",
    "#txdb <- TxDb.Hsapiens.UCSC.hg19.knownGene\n",
    "#require(org.Hs.eg.db)\n",
    "#orgDb <- org.Hs.eg.db\n",
    "#fds <- annotateRangesWithTxDb(fds, txdb=txdb, orgDb=orgDb)\n",
    "\n",
    "# annotate\n",
    "fds <- annotateRangesWithTxDb(fds)\n",
    "\n",
    "# retrive results\n",
    "register(SerialParam())\n",
    "res <- as.data.table(results(fds))\n",
    "res"
   ]
  },
  {
   "cell_type": "markdown",
   "metadata": {
    "id": "hoY5l_ia5SY5"
   },
   "source": [
    "As FRASER tests $\\psi_5$, $\\psi_3$ and $\\theta$, it can reports multiple hits for the same event. This is helpful later when interprating the results. But of a first overview this can be overwhelming. Hence, we suggest to aggregrate the results first at the gene level before going into details."
   ]
  },
  {
   "cell_type": "code",
   "execution_count": null,
   "metadata": {
    "id": "wKKppQd16jUV"
   },
   "outputs": [],
   "source": [
    "# convert back to GRange object\n",
    "resAsGR <- makeGRangesFromDataFrame(res, keep.extra.columns = TRUE)\n",
    "\n",
    "# group results by genes/sample\n",
    "results_by_genes <- as.data.table(resultsByGenes(resAsGR))\n",
    "results_by_genes"
   ]
  },
  {
   "cell_type": "markdown",
   "metadata": {},
   "source": [
    "\n",
    "Now we can have some cut-offs to filter down the number of junctions we want to test later on.\n",
    "\n",
    "Currently, we keep only junctions that support the following:\n",
    "* At least one sample has 20 reads\n",
    "* 5% of the samples have at least 1 read\n",
    "\n",
    "Further, one could filter for:\n",
    "* At least one sample has to have $|\\Delta\\psi| > 0.1$"
   ]
  },
  {
   "cell_type": "code",
   "execution_count": null,
   "metadata": {},
   "outputs": [],
   "source": []
  }
 ],
 "metadata": {
  "kernelspec": {
   "display_name": "R",
   "language": "R",
   "name": "ir"
  },
  "language_info": {
   "codemirror_mode": "r",
   "file_extension": ".r",
   "mimetype": "text/x-r-source",
   "name": "R",
   "pygments_lexer": "r",
   "version": "4.0.3"
  },
  "widgets": {
   "state": {},
   "version": "1.1.0"
  }
 },
 "nbformat": 4,
 "nbformat_minor": 4
}
