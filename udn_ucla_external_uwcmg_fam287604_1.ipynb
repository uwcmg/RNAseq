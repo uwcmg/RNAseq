{
  "nbformat": 4,
  "nbformat_minor": 0,
  "metadata": {
    "colab": {
      "name": "udn_ucla_external_uwcmg_fam287604_1",
      "provenance": [],
      "collapsed_sections": [],
      "toc_visible": true,
      "include_colab_link": true
    },
    "language_info": {
      "codemirror_mode": "r",
      "file_extension": ".r",
      "mimetype": "text/x-r-source",
      "name": "R",
      "pygments_lexer": "r",
      "version": "3.3.1"
    },
    "kernelspec": {
      "display_name": "R",
      "language": "R",
      "name": "ir"
    }
  },
  "cells": [
    {
      "cell_type": "markdown",
      "metadata": {
        "id": "view-in-github",
        "colab_type": "text"
      },
      "source": [
        "<a href=\"https://colab.research.google.com/github/uwcmg/RNAseq/blob/main/udn_ucla_external_uwcmg_fam287604_1.ipynb\" target=\"_parent\"><img src=\"https://colab.research.google.com/assets/colab-badge.svg\" alt=\"Open In Colab\"/></a>"
      ]
    },
    {
      "cell_type": "markdown",
      "metadata": {
        "id": "KH0l_-OMBdkq"
      },
      "source": [
        "<h1>RNA-seq workshop @ ASHG</h1>\n",
        "\n",
        "A hands-on rare disease diagnostic workshop on RNA-seq data [#ASHG20](https://twitter.com/hashtag/ASHG20)\n",
        "\n",
        "The accompanying presentation can be found here: [tinyurl.com/RNA-ASHG-presentation](https://tinyurl.com/RNA-ASHG-presentation).\n",
        "\n",
        "And if any troubles arise please refer to the FAQ [here](https://tinyurl.com/RNA-ASHG-FAQ).\n",
        "\n",
        "For any further discussion please sign up at our [Slack community](https://join.slack.com/t/rnaseq4rare/shared_invite/enQtNzU1MzEyOTI4NjQ3LTMwNjM1NmZlNWY3Nzk1MjkxYTFkYjBjNjdlNTI3Y2ZkNzJjZTNmZTFiZDVhOTVhMjEwYjRiYzA4Y2QwMzhjNTA\n",
        ").\n",
        "\n",
        "---\n",
        "\n",
        "# Setup the notebook\n",
        "\n",
        "To get started, we have to setup this IR notebook @ Colab. To do so, please run the following code snippet.\n",
        "This will download all necessary software packages for this tutorial. Also, it will download the example datasets used throughout this tutorial.\n",
        "\n",
        "This part has to be run each time the virtual machine stops. Usually after 60 minutes idle time."
      ]
    },
    {
      "cell_type": "code",
      "metadata": {
        "id": "6xyjPrj6KwOv",
        "colab": {
          "base_uri": "https://localhost:8080/"
        },
        "outputId": "569a5a67-0e15-4f04-f61e-9fd14e909774"
      },
      "source": [
        "# takes ~3 minutes\n",
        "download.file(destfile=\"r-env-setup-script.R\", \n",
        "    url=\"https://raw.githubusercontent.com/c-mertes/RNAseq-ASHG19/master/r-env-setup-script.R\")\n",
        "source(\"r-env-setup-script.R\")\n",
        "print(\"Setup done.\")"
      ],
      "execution_count": 1,
      "outputs": [
        {
          "output_type": "stream",
          "text": [
            "Update and install needed Ubuntu packages\n",
            "\n",
            "Download R package cache\n",
            "\n",
            "Unzipping R package cache\n",
            "\n",
            "Retrieve data for tutorials\n",
            "\n"
          ],
          "name": "stderr"
        },
        {
          "output_type": "stream",
          "text": [
            "[1] \"Setup done.\"\n"
          ],
          "name": "stdout"
        }
      ]
    },
    {
      "cell_type": "markdown",
      "metadata": {
        "id": "8DA3mL5kmWaf"
      },
      "source": [
        "If you do see an error or warning in the setup, please reset the notebook and try it again:\n",
        "\n",
        "`Runtime -> Factory reset runtime`"
      ]
    },
    {
      "cell_type": "markdown",
      "metadata": {
        "id": "a5sGX539KwO0"
      },
      "source": [
        "# Expression Outlier Detection in RNA-seq data\n",
        "\n",
        "A short introduction to expression outlier detection can be found [here](https://docs.google.com/presentation/d/1a7KZ6FXwVmGqF-FMAnz0QTk07WgzRWAbFhSNrUBspIQ/edit#slide=id.g630401e960_5_0).\n",
        "\n",
        "\n",
        "\n"
      ]
    },
    {
      "cell_type": "markdown",
      "metadata": {
        "id": "ti4FIhc3KwO2"
      },
      "source": [
        "## Data import\n",
        "---\n",
        "\n",
        "First, we have to load the [*OUTRIDER*](http://bioconductor.org/packages/release/bioc/html/OUTRIDER.html) package that we will use to run the full expression outlier analysis. To map ENSEMBL gene names and HGNC symbols we use [*annotables*](https://github.com/stephenturner/annotables). For efficient data handling and visualization, we further load [*data.table*](https://cran.r-project.org/web/packages/data.table/index.html), [*ggplot2*](https://cran.r-project.org/web/packages/ggplot2/index.html), and [*ggpubr*](https://cran.r-project.org/web/packages/ggpubr/index.html)."
      ]
    },
    {
      "cell_type": "code",
      "metadata": {
        "id": "6LBEs8WkKwO2"
      },
      "source": [
        "library(OUTRIDER)\n",
        "library(annotables)\n",
        "library(data.table)\n",
        "library(ggplot2)\n",
        "library(ggpubr)"
      ],
      "execution_count": null,
      "outputs": []
    },
    {
      "cell_type": "markdown",
      "metadata": {
        "id": "xY4NaDSwKwO5"
      },
      "source": [
        "For the gene expression outlier detection analysis, we need the raw read counts and a sample annotation. Let's load them into the session.\n",
        "\n",
        "Have a look at the annotations we use and how many genes were counted."
      ]
    },
    {
      "cell_type": "code",
      "metadata": {
        "id": "r8Nq2wj4KwO6"
      },
      "source": [
        "# sample annotation and raw read counts\n",
        "anno <- fread(\"./annotation.tsv\")[, 1:6]\n",
        "cts  <- as.matrix(read.table(\"./outrider/raw_counts.tsv.gz\"))\n",
        "\n",
        "# look into the data\n",
        "head(anno)\n",
        "print(\"Dimensions of the annotation:\")\n",
        "dim(anno)\n",
        "\n",
        "cts[1:5, 1:10]\n",
        "print(\"Dimensions of the count table:\")\n",
        "dim(cts)"
      ],
      "execution_count": null,
      "outputs": []
    },
    {
      "cell_type": "markdown",
      "metadata": {
        "id": "1XN-8T2FKwO8"
      },
      "source": [
        "We can see that we have ~60,000 genes and 100 samples in our experiment. For counting, we used all the genes annotated in the [GENCODE v29 annotation](https://www.gencodegenes.org/human/release_29lift37.html).\n",
        "\n",
        "Create an *OUTRIDER* object with the loaded annotation and raw count matrix by running `OutriderDataSet`."
      ]
    },
    {
      "cell_type": "code",
      "metadata": {
        "id": "BRh8Bf7LKwO-"
      },
      "source": [
        "anno[,sampleID:=INDIVIDUAL]\n",
        "ods <- OutriderDataSet(countData=cts, colData=anno)\n",
        "ods"
      ],
      "execution_count": null,
      "outputs": []
    },
    {
      "cell_type": "markdown",
      "metadata": {
        "id": "gEjYoJ60KwO_"
      },
      "source": [
        "## Quality control and preprocessing of raw count data\n",
        "\n",
        "In this tutorial, only a few quality control metrics are explored. In a real experiment setup, this step should be done more extensively ([see slides for hints](https://docs.google.com/presentation/d/1a7KZ6FXwVmGqF-FMAnz0QTk07WgzRWAbFhSNrUBspIQ/edit?pli=1#slide=id.g64b01c344e_4_51)). "
      ]
    },
    {
      "cell_type": "markdown",
      "metadata": {
        "id": "UqgvmY3-KwPA"
      },
      "source": [
        "### Size factor\n",
        "\n",
        "One important metric is the *sizeFactor*. The *sizeFactor* represents the sequencing depth of each sample with respect to the others and is centered around 1. The *sizeFactor* can be estimated with `estimateSizeFactors` based on the [*DESeq2*](http://bioconductor.org/packages/release/bioc/html/DESeq2.html) function. In gene expression analysis, one of the first normalization steps is done using the *sizeFactor*."
      ]
    },
    {
      "cell_type": "code",
      "metadata": {
        "id": "t62CBQPnKwPB"
      },
      "source": [
        "# estimate sizeFactors \n",
        "ods <- estimateSizeFactors(ods)\n",
        "\n",
        "# visualize the sizeFactors\n",
        "plotSizeFactors(ods)"
      ],
      "execution_count": null,
      "outputs": []
    },
    {
      "cell_type": "markdown",
      "metadata": {
        "id": "eE7sWTKtKwPC"
      },
      "source": [
        "As expected, most data points are around 1. A low *sizeFactor* could be an indication for a failed experiment or other issues during the preparation (eg. low RNA input). Those samples should be dealt with caution. Also high *sizeFactors* should be investigated. \n",
        "\n",
        "Let's have a look at the samples with the lowest *sizeFactor*. "
      ]
    },
    {
      "cell_type": "code",
      "metadata": {
        "id": "y7JJIQbmKwPD"
      },
      "source": [
        "round(sort(sizeFactors(ods)), digits=2)[1:5]"
      ],
      "execution_count": null,
      "outputs": []
    },
    {
      "cell_type": "markdown",
      "metadata": {
        "id": "FttdKAC3KwPF"
      },
      "source": [
        "### Filter non-expressed genes\n",
        "\n",
        "Not all genes are expressed in a given tissue/sample. It depends on the tissues and the sequencing depth how many expressed genes are expected. \n",
        "\n",
        "To make the modelling and outlier detection more robust, a good filtering of non-expressed genes is crucial. The cutoffs are dependent on the project and should be defined beforehand. The FPKM value (fragments per kilobase of million mapped reads) is a good measurement for this.\n",
        "\n",
        "Here, we keep genes where at least 5% of the samples have an FPKM value greater than 1.\n",
        "\n",
        "To compute the FPKM value, we need the gene length from the annotation file. "
      ]
    },
    {
      "cell_type": "code",
      "metadata": {
        "id": "z7WWRJt1KwPH"
      },
      "source": [
        "# load gene annotation to compute FPKM values\n",
        "txdb <- loadDb(\"annotations/gencode.v29lift37.annotation.txdb\")\n",
        "ods <- filterExpression(ods, gtfFile=txdb, filterGenes=FALSE)"
      ],
      "execution_count": null,
      "outputs": []
    },
    {
      "cell_type": "markdown",
      "metadata": {
        "id": "6HXhPC_lKwPJ"
      },
      "source": [
        "Plot the number of genes filtered out and their expression distribution across all sample/gene pairs."
      ]
    },
    {
      "cell_type": "code",
      "metadata": {
        "id": "KTizW_D1KwPJ"
      },
      "source": [
        "# FPKM distribution across all sample/gene pairs\n",
        "plotFPKM(ods) + theme(legend.position = 'bottom')"
      ],
      "execution_count": null,
      "outputs": []
    },
    {
      "cell_type": "markdown",
      "metadata": {
        "id": "TuFEA1Z0KwPL"
      },
      "source": [
        "Let's subset now the object for expressed genes only. Have a look at the output on how many genes/samples (below as `dim`) we ended up for the final analysis."
      ]
    },
    {
      "cell_type": "code",
      "metadata": {
        "id": "3Lbx2iCoKwPL"
      },
      "source": [
        "# filter object based on the expression status of the genes\n",
        "ods <- ods[mcols(ods)[,\"passedFilter\"],]\n",
        "ods"
      ],
      "execution_count": null,
      "outputs": []
    },
    {
      "cell_type": "markdown",
      "metadata": {
        "id": "TywHtbXeKwPM"
      },
      "source": [
        "### Sample co-variation\n",
        "Usually in RNA-seq data one can see sample co-variation and hence should control for that. In most of the cases one knows the cause of the structure (eg. sex, origin, batch) but sometimes it comes from unkown confounders. For more details [see slides](https://docs.google.com/presentation/d/1a7KZ6FXwVmGqF-FMAnz0QTk07WgzRWAbFhSNrUBspIQ/edit#slide=id.g614aa1ac41_0_33)."
      ]
    },
    {
      "cell_type": "code",
      "metadata": {
        "id": "oRfzDpm9KwPN"
      },
      "source": [
        "# Make heatmap figure bigger\n",
        "options(repr.plot.width=6, repr.plot.height=5)\n",
        "\n",
        "# use normalize=FALSE since the data is not yet corrected\n",
        "# use columns from the annotation to add labels to the heatmap\n",
        "plotCountCorHeatmap(ods, colGroups=c(\"SEX\", \"ORIGIN\"), \n",
        "        rowGroups=\"LAB\", normalize=FALSE)"
      ],
      "execution_count": null,
      "outputs": []
    },
    {
      "cell_type": "markdown",
      "metadata": {
        "id": "hCnEHwmgKwPP"
      },
      "source": [
        "## Detection of expression outlier events\n",
        "\n",
        "We have loaded the data, did some quality control, and preprocessed (filtered) the data. Now we can start with the **normalization** and **outlier detection**.\n",
        "\n",
        "\n",
        "<img src=\"https://github.com/gagneurlab/OUTRIDER/raw/master/vignettes/autoencoder_sketch.png\" alt=\"Using a denoising autoencoder to correct for sample co-variations.\" width=\"400\"/>"
      ]
    },
    {
      "cell_type": "markdown",
      "metadata": {
        "id": "es5xWQBpKwPP"
      },
      "source": [
        "### Fitting the model\n",
        "\n",
        "We will now use *OUTRIDER* to model the sample co-variation, also called latent space, based on the given gene expression data. Using the correct dimension for the latent space is crucial for achieving the best performance. Finding the right dimension can be done with `findEncodingDim()`. "
      ]
    },
    {
      "cell_type": "code",
      "metadata": {
        "id": "7_YDq0fEKwPQ"
      },
      "source": [
        "# use BiocParallel to compute in parallel\n",
        "register(MulticoreParam(workers=2, tasks=10, progressbar=TRUE))\n",
        "\n",
        "## As this step is heavy to compute we will use a prefitted model.\n",
        "## If you use your own data please uncomment it and run it.\n",
        "## It can take 30 minutes to complete depending on the sample/gene size.\n",
        "ods <- readRDS(\"outrider/fitted_ods.RDS\")\n",
        "\n",
        "## Find the optimal dimension for the latent space\n",
        "# ods <- findEncodingDim(ods)\n",
        "getBestQ(ods)\n",
        "plotEncDimSearch(ods)\n",
        "\n",
        "## fit the OUTRIDER model\n",
        "# ods <- OUTRIDER(ods, q=getBestQ(ods))"
      ],
      "execution_count": null,
      "outputs": []
    },
    {
      "cell_type": "markdown",
      "metadata": {
        "id": "oF1Xqn11KwPR"
      },
      "source": [
        "Let's see how well the denoising autoencoder fitted the latent space of our data. Ideally, we should not see any cluster anymore and most of the plot should be rather white than red or blue except for the diagonal. Compare the dendogram with the previous heatmap. What do you observe?"
      ]
    },
    {
      "cell_type": "code",
      "metadata": {
        "id": "ALvmL2F_KwPR"
      },
      "source": [
        "plotCountCorHeatmap(ods, colGroups=c(\"SEX\", \"ORIGIN\"), \n",
        "        rowGroups=\"LAB\", normalize=TRUE)"
      ],
      "execution_count": null,
      "outputs": []
    },
    {
      "cell_type": "markdown",
      "metadata": {
        "id": "L-oTuaI6KwPT"
      },
      "source": [
        "### Detection of expression outliers\n",
        "\n",
        "After fitting the model and correcting for sample co-variations, we can now obtain our expression outliers. \n",
        "Here, we define an outlier as an event that significantly deviates from the expected Negative-Binomial distribution after controlling for confounders. For details [see slides](https://docs.google.com/presentation/d/1a7KZ6FXwVmGqF-FMAnz0QTk07WgzRWAbFhSNrUBspIQ/edit#slide=id.g64b01c344e_4_158).\n",
        "\n",
        "<img src=\"https://github.com/c-mertes/RNAseq-ASHG19/raw/master/src/nb-p-value.PNG\" alt=\"no image\" width=\"250\"/>\n",
        "\n",
        "The two-sided p value is defined as:\n",
        "\n",
        "$ P(k_{ij}) = 2 \\cdot \\min\\left( \\frac{1}{2}, \\sum_{k=0}^{k_{ij}} NB(k_{ij}|\\mu_{ij}), \\theta_j), 1-\\sum_{k=0}^{k_{ij}} NB(k_{ij}|\\mu_{ij},\\theta_j) \\right)$,\n",
        "\n",
        "with a genome-wide significance threshold of $FDR < 0.05$.\n",
        "\n",
        "Let's check how many expression outliers per sample were found.\n"
      ]
    },
    {
      "cell_type": "code",
      "metadata": {
        "id": "V8pqKlhMKwPU"
      },
      "source": [
        "plotAberrantPerSample(ods)"
      ],
      "execution_count": null,
      "outputs": []
    },
    {
      "cell_type": "markdown",
      "metadata": {
        "id": "MUglX5SFKwPW"
      },
      "source": [
        "### Z score approach\n",
        "\n",
        "There are many different ways to define outliers. One common approach is to compute a Z score and then define outliers as $|z| > 3$ or $|z| > 2$. In our [OUTRIDER publication](https://doi.org/10.1016/j.ajhg.2018.10.025), we recommend to use a statistical assesment for defining outliers over the Z score approach.\n",
        "\n",
        "Despite our recommendation, one can use OUTRIDER to retrieve Z score derived outliers by setting `padjCutoff=1` and `zScoreCutoff=2` or another value of choice."
      ]
    },
    {
      "cell_type": "code",
      "metadata": {
        "id": "bNuues7FKwPW"
      },
      "source": [
        "plotAberrantPerSample(ods, padjCutoff=1, zScoreCutoff=2, yadjust=c(1.3,1.4))"
      ],
      "execution_count": null,
      "outputs": []
    },
    {
      "cell_type": "markdown",
      "metadata": {
        "id": "cglZQenFKwPY"
      },
      "source": [
        "In order to make the results table more intuitive, we now change the ENSEMBL gene IDs into HGNC symbols. For this we use the [*annotables*](https://github.com/stephenturner/annotables) package."
      ]
    },
    {
      "cell_type": "code",
      "metadata": {
        "id": "y5T7Mo8lKwPZ"
      },
      "source": [
        "# remove versioning of gene IDs and merge with GRCh37 from annotables\n",
        "geneIDs <- gsub(\"\\\\.[0-9]*(_[0-9]*)?.*$\", \"\", rownames(ods))\n",
        "map <- merge(data.table(ensgene=geneIDs), grch37, sort=FALSE,\n",
        "        all.x=TRUE)[!duplicated(ensgene),]\n",
        "\n",
        "# set new gene names only if hgnc symbol is present\n",
        "if(!\"ENSG\" %in% colnames(mcols(ods))){\n",
        "    mcols(ods)$ENSG <- geneIDs\n",
        "    rownames(ods) <- map[,ifelse(\n",
        "            is.na(symbol) | symbol == \"\" | duplicated(symbol), geneIDs, symbol)]\n",
        "}"
      ],
      "execution_count": null,
      "outputs": []
    },
    {
      "cell_type": "markdown",
      "metadata": {
        "id": "-dovsc8QKwPa"
      },
      "source": [
        "Now we can retrieve our expression outliers using the *results* function."
      ]
    },
    {
      "cell_type": "code",
      "metadata": {
        "id": "7JPjkSoTKwPb"
      },
      "source": [
        "res <- results(ods)\n",
        "head(res)\n",
        "dim(res)"
      ],
      "execution_count": null,
      "outputs": []
    },
    {
      "cell_type": "markdown",
      "metadata": {
        "id": "OC4nwIMeKwPd"
      },
      "source": [
        "## Finding candidates in a patient, a case study\n",
        "\n",
        "We know that patient **NA18873** has a rare mitochondrial disease with a complex I deficiency. This means that we are looking for mitochondrial or complex I related genes.\n",
        "\n",
        "Let's have first a look at the patient's volcano plot. This shows the effect of the event on the x axis (Z score) and the significance on the y axis (nominal p value). This gives an overview of expression status of all genes within a given sample."
      ]
    },
    {
      "cell_type": "code",
      "metadata": {
        "id": "dOTqDb24KwPe"
      },
      "source": [
        "# volcano plot of sample NA18873\n",
        "plotVolcano(ods, \"NA18873\", base=TRUE)"
      ],
      "execution_count": null,
      "outputs": []
    },
    {
      "cell_type": "markdown",
      "metadata": {
        "id": "o1isWBKGnuLl"
      },
      "source": [
        "We can have then a closer look at the outliers of this specific case in detail by subetting the results table."
      ]
    },
    {
      "cell_type": "code",
      "metadata": {
        "id": "7HrXhdHzn-i8"
      },
      "source": [
        "# subset results for this patient\n",
        "res[sampleID == \"NA18873\"]"
      ],
      "execution_count": null,
      "outputs": []
    },
    {
      "cell_type": "markdown",
      "metadata": {
        "id": "3Y45vwcGKwPh"
      },
      "source": [
        "We see 4 outliers in this case. But only one fits the phenotype (e.g. check [GeneCards](https://www.genecards.org) as a reference).\n",
        "\n",
        "* [CAT](https://www.genecards.org/cgi-bin/carddisp.pl?gene=CAT) \n",
        "* [TIMMDC1](https://www.genecards.org/cgi-bin/carddisp.pl?gene=TIMMDC1) \n",
        "* [RP11-325F22.2](https://www.genecards.org/cgi-bin/carddisp.pl?gene=ENSG00000237513) \n",
        "* [DCTD](https://www.genecards.org/cgi-bin/carddisp.pl?gene=DCTD)\n",
        "\n",
        "\n",
        "*TIMMDC1* is a known mitochondrial located gene and also part of the complex I. Hence, the best candidate so far. Let's have a closer look on the gene level."
      ]
    },
    {
      "cell_type": "code",
      "metadata": {
        "id": "uGL7rKVAKwPi"
      },
      "source": [
        "# make the plot again default size\n",
        "options(repr.plot.width=8, repr.plot.height=4)\n",
        "\n",
        "ggarrange(ncol=2,\n",
        "    plotExpressionRank(ods, \"TIMMDC1\", norm=FALSE, basePlot=TRUE) + scale_y_log10(lim=c(300,2000)),\n",
        "    plotExpressionRank(ods, \"TIMMDC1\", norm=TRUE,  basePlot=TRUE) + scale_y_log10(lim=c(300,2000)))"
      ],
      "execution_count": null,
      "outputs": []
    },
    {
      "cell_type": "markdown",
      "metadata": {
        "id": "74SHNIFnKwPj"
      },
      "source": [
        "Wondering why the lowest point in the raw uncorrected counts is not significant? It corresponds to the sample with the lowest *sizeFactor*. The autoencoder uses the *sizeFactor* to correct for different library depths across the dataset and hence the point is gone in the normalized plot. \n",
        "\n",
        "To make sure the fit was good, we can look at the quantile-quantile plot."
      ]
    },
    {
      "cell_type": "code",
      "metadata": {
        "id": "vZhcJvruKwPj"
      },
      "source": [
        "# set again the default size for the plot\n",
        "options(repr.plot.width=4, repr.plot.height=4)\n",
        "\n",
        "plotQQ(ods, \"TIMMDC1\")"
      ],
      "execution_count": null,
      "outputs": []
    },
    {
      "cell_type": "markdown",
      "metadata": {
        "id": "JIER7SLuN8dI"
      },
      "source": [
        "Interested users can also plot the observed vs the expected gene expression levels to investigate the test statistic with the `plotExpectedVsObservedCounts` function."
      ]
    },
    {
      "cell_type": "markdown",
      "metadata": {
        "id": "QRGZWHF9KwPl"
      },
      "source": [
        "## What to do if you see many outliers in a case?\n",
        "\n",
        "Let's have a look at a second case: **NA11918**.\n",
        "\n",
        "* How many outliers do you see in this case?\n",
        "* Are they all disease-related?\n",
        "* How could you prioritize further to get a handful of candidates only?\n",
        "* Could a Z score cutoff be helpful?"
      ]
    },
    {
      "cell_type": "code",
      "metadata": {
        "id": "i8nWbpagKwPm"
      },
      "source": [
        "# make the plot wider\n",
        "options(repr.plot.width=8, repr.plot.height=4)\n",
        "\n",
        "# Volcano plot with significance based on p value or on Z score threshold\n",
        "ggarrange(ncol=2,\n",
        "    plotVolcano(ods, \"NA11918\", main=\"FDR (<0.05) based volcano plot\", \n",
        "            base=TRUE, padjCutoff=0.05, zScoreCutoff=0),\n",
        "    plotVolcano(ods, \"NA11918\", main=\"Z score (>3) based volcano plot\",\n",
        "            base=TRUE, padjCutoff=1, zScoreCutoff=3))"
      ],
      "execution_count": null,
      "outputs": []
    },
    {
      "cell_type": "code",
      "metadata": {
        "id": "f_bRV__mKwPn"
      },
      "source": [
        "# subset results for this patient (p value based)\n",
        "res[sampleID == \"NA11918\"]"
      ],
      "execution_count": null,
      "outputs": []
    },
    {
      "cell_type": "markdown",
      "metadata": {
        "id": "-7YUqEfwKwPo"
      },
      "source": [
        "And if you want to have the Z score based results table you can extract it as following:"
      ]
    },
    {
      "cell_type": "code",
      "metadata": {
        "id": "jXFLcukHKwPo"
      },
      "source": [
        "resZscore <- results(ods, padjCutoff=1, zScoreCutoff=3)\n",
        "resZscore[sampleID == \"NA11918\"]"
      ],
      "execution_count": null,
      "outputs": []
    },
    {
      "cell_type": "markdown",
      "metadata": {
        "id": "4y3LXOjpKwPp"
      },
      "source": [
        "## Expression-Outlier Exercise for later\n",
        "\n",
        "If you want to test the knowledge you gained in this tutorial, you can try to solve this case by yourself.\n",
        "\n",
        "What we know:\n",
        "\n",
        "`HG00103` has an early-onset rare disease and suffers from \n",
        "  * microcephaly\n",
        "  * brain atrophy\n",
        "  * reduced activities of mitochondrial respiratory complexes I and III\n",
        "\n",
        "Can you find the disease causing gene for this case?"
      ]
    },
    {
      "cell_type": "code",
      "metadata": {
        "id": "fz8XrGdIKwPq"
      },
      "source": [
        "\n",
        "# TODO write your code with some documentation. \n",
        "# To get you started, some questions below\n",
        "\n",
        "# * what are the possible candidates\n",
        "# * what kind of visualization do we have\n",
        "# * have a detailed look at some of the outliers\n",
        "# * can we trust the model fit?\n"
      ],
      "execution_count": null,
      "outputs": []
    },
    {
      "cell_type": "markdown",
      "metadata": {
        "id": "MZWUZ09mKwPr"
      },
      "source": [
        "Did you find the right candidate? If you want to validate your findings, please have a look at this [paper](https://www.ncbi.nlm.nih.gov/pubmed/26626369)."
      ]
    },
    {
      "cell_type": "markdown",
      "metadata": {
        "id": "zpKzgRL8PTxG"
      },
      "source": [
        "# Aberrant Splicing Detection in RNA-seq data\n",
        "\n",
        "A short introduction to splicing can be found in presentation [here](https://docs.google.com/presentation/d/1a7KZ6FXwVmGqF-FMAnz0QTk07WgzRWAbFhSNrUBspIQ/edit?pli=1#slide=id.g64b01c344e_4_394)."
      ]
    },
    {
      "cell_type": "markdown",
      "metadata": {
        "id": "UT8by03x-VX7"
      },
      "source": [
        "## Data import\n",
        "---\n",
        "\n",
        "First, we have to load the [*FRASER*](http://github.com/c-mertes/FRASER) package that we will use to run the full aberrant splicing analysis. For efficient data handling and visualization we further load [*data.table*](https://cran.r-project.org/web/packages/data.table/index.html), [*ggplot2*](https://cran.r-project.org/web/packages/ggplot2/index.html), and [*ggpubr*](https://cran.r-project.org/web/packages/ggpubr/index.html)."
      ]
    },
    {
      "cell_type": "code",
      "metadata": {
        "id": "DASLb47cVDCK"
      },
      "source": [
        "library(FRASER)\n",
        "library(data.table)\n",
        "library(ggplot2)\n",
        "library(ggpubr)\n",
        "register(SerialParam())"
      ],
      "execution_count": null,
      "outputs": []
    },
    {
      "cell_type": "markdown",
      "metadata": {
        "id": "RdHb5dnih5Or"
      },
      "source": [
        "We will use the following [dataset](https://i12g-gagneurweb.in.tum.de/public/workshops/RNAseq_ASHG19/input_data/splicing), which is already available in this session.\n",
        "\n",
        "Due to time reasons, we will go through the standard analysis workflow only with a toy dataset. In the end, we provide a fully preprocessed and fitted model to do the final prioritization.\n",
        "\n",
        "We assume that the split reads (reads spanning an exon-exon junction) and non-split reads (reads spanning a splice site) are already counted (e.g. with [FRASER](https://github.com/c-mertes/FraseR), [HTSeq](https://htseq.readthedocs.io/en/release_0.11.1/count.html) or [RSubread](https://bioconductor.org/packages/release/bioc/html/Rsubread.html)).\n",
        "\n",
        "Let's prepare and load the data needed for the aberrant splicing analysis.\n",
        "* Counts (split reads + non-split reads)\n",
        "* Sample annotation"
      ]
    },
    {
      "cell_type": "code",
      "metadata": {
        "id": "zsVX_wL0usr2"
      },
      "source": [
        "# load and prepare annotation (add needed columns for FRASER)\n",
        "anno <- fread(\"annotation.tsv\")[,1:6]\n",
        "anno[, sampleID:=INDIVIDUAL]\n",
        "## only needed if you start from BAM files and need to count reads first\n",
        "# anno[, bamFile:=\"<path/to/sample/bam/file>\"]\n",
        "\n",
        "# get raw counts (remove first column since it is the row index)\n",
        "junctionCts   <- fread(\"./splicing/raw_junction_counts.tsv.gz\")\n",
        "spliceSiteCts <- fread(\"./splicing/raw_site_counts.tsv.gz\")"
      ],
      "execution_count": null,
      "outputs": []
    },
    {
      "cell_type": "markdown",
      "metadata": {
        "id": "07Fu8oF8bKnx"
      },
      "source": [
        "Let's have a look at the count matrix and what extra information we have."
      ]
    },
    {
      "cell_type": "code",
      "metadata": {
        "id": "D1BLJYU5mriM"
      },
      "source": [
        "head(anno)\n",
        "junctionCts[1:6,1:15]\n",
        "spliceSiteCts[1:6,1:15]"
      ],
      "execution_count": null,
      "outputs": []
    },
    {
      "cell_type": "markdown",
      "metadata": {
        "id": "ZlEpUZlKbV_Q"
      },
      "source": [
        "Now we can put all the data together and create a FRASER dataset object."
      ]
    },
    {
      "cell_type": "code",
      "metadata": {
        "id": "D5cnqCKKmmCG"
      },
      "source": [
        "# create FRASER object\n",
        "fds <- FraserDataSet(colData=anno, junctions=junctionCts, \n",
        "        spliceSites=spliceSiteCts)\n",
        "fds"
      ],
      "execution_count": null,
      "outputs": []
    },
    {
      "cell_type": "markdown",
      "metadata": {
        "id": "Pk27o1WOyz65"
      },
      "source": [
        "We will only use a subset to run a fast analysis. Let's take only 3 chromosomes and random 60 samples (keep our cases). Also to speed up the processing, we keep the full data in memory and not on disk using HDF5. We will provide a full fitted model later."
      ]
    },
    {
      "cell_type": "code",
      "metadata": {
        "id": "-xDct8isk-HC"
      },
      "source": [
        "# randomly subset samples \n",
        "set.seed(42)\n",
        "patient_ids <- c(\"NA11918\", \"NA20505\", \"HG00132\")\n",
        "fds <- fds[\n",
        "    seqnames(fds) %in% c(\"chr3\", \"chr6\", \"chr19\"),\n",
        "    unique(c(patient_ids, sample(colnames(fds))))[1:60]]\n",
        "dontWriteHDF5(fds) <- TRUE\n",
        "fds"
      ],
      "execution_count": null,
      "outputs": []
    },
    {
      "cell_type": "markdown",
      "metadata": {
        "id": "OyWMJFVc5-oW"
      },
      "source": [
        "## Data preprocessing and QC\n",
        "\n",
        "As with gene expression analysis, a good quality control of the raw data is crucial. As we will not go into detail here, please refer for some hints to the [gene expression slides](https://docs.google.com/presentation/d/1a7KZ6FXwVmGqF-FMAnz0QTk07WgzRWAbFhSNrUBspIQ/edit?pli=1#slide=id.g64b01c344e_4_51)."
      ]
    },
    {
      "cell_type": "markdown",
      "metadata": {
        "id": "-HmoGrv8VChf"
      },
      "source": [
        "### Filtering the data\n",
        "\n",
        "Before we can filter the data, we have to compute the main splicing metric: the $\\psi$-values (Percent Spliced In) and $\\theta$-values (splicing efficiency)."
      ]
    },
    {
      "cell_type": "code",
      "metadata": {
        "id": "__KgETC1lMOf"
      },
      "source": [
        "fds <- calculatePSIValues(fds) # take 1-2 minutes"
      ],
      "execution_count": null,
      "outputs": []
    },
    {
      "cell_type": "markdown",
      "metadata": {
        "id": "Koa2bc0RlNQo"
      },
      "source": [
        "\n",
        "Now we can have some cut-offs to filter down the number of junctions we want to test later on.\n",
        "\n",
        "Currently, we keep only junctions that support the following:\n",
        "* At least one sample has 20 reads\n",
        "* 5% of the samples have at least 1 read\n",
        "\n",
        "Further, one could filter for:\n",
        "* At least one sample has to have $|\\Delta\\psi| > 0.1$"
      ]
    },
    {
      "cell_type": "code",
      "metadata": {
        "id": "KzraaqJ106PO"
      },
      "source": [
        "fds <- filterExpressionAndVariability(fds, minDeltaPsi=0.1, filter=FALSE)"
      ],
      "execution_count": null,
      "outputs": []
    },
    {
      "cell_type": "code",
      "metadata": {
        "id": "s-NGNG26fIVC"
      },
      "source": [
        "# make the plot wider\n",
        "options(repr.plot.width=5, repr.plot.height=4)\n",
        "\n",
        "plotFilterExpression(fds, bins=100)\n",
        "plotFilterVariability(fds) + theme(legend.position=\"none\")"
      ],
      "execution_count": null,
      "outputs": []
    },
    {
      "cell_type": "markdown",
      "metadata": {
        "id": "4mYvizpHOTfu"
      },
      "source": [
        "After looking at the expression distribution between filtered and unfiltered junctions, we can now subset the dataset. We mainly see that we discarded junctions with overall low expression, which was the intention."
      ]
    },
    {
      "cell_type": "code",
      "metadata": {
        "id": "QtUe48dmgCu6"
      },
      "source": [
        "fds <- fds[mcols(fds, type=\"j\")[,\"passed\"],]\n",
        "fds"
      ],
      "execution_count": null,
      "outputs": []
    },
    {
      "cell_type": "markdown",
      "metadata": {
        "id": "JPsiZI9gPV2j"
      },
      "source": [
        "### Sample co-variation\n",
        "\n",
        "Since $\\psi$ values are ratios within a sample, one might think that there should not be as much correlation structure as observed in gene expression data within the splicing data.\n",
        "\n",
        "This is not true as we do see strong sample co-variation within many tissues and cohorts. Let's have a look into our data to see if we do have correlation structure or not. To have a better estimate, we use the logit transformed $\\psi$ values to compute the correlation. We can annotate our plot with any information provided through the sample annotation."
      ]
    },
    {
      "cell_type": "code",
      "metadata": {
        "id": "lUir1fG1Oh6T"
      },
      "source": [
        "# Make heatmap figure bigger\n",
        "options(repr.plot.width=6, repr.plot.height=5)\n",
        "\n",
        "plotCountCorHeatmap(fds, type=\"psi5\", logit=TRUE, sampleClustering=NA, \n",
        "        annotation_col=c(\"SEX\", \"LAB\", \"ORIGIN\"))"
      ],
      "execution_count": null,
      "outputs": []
    },
    {
      "cell_type": "markdown",
      "metadata": {
        "id": "Rg14hsSbQ07v"
      },
      "source": [
        "## Detection of aberrant splicing events\n",
        "\n",
        "After preprocessing the raw data and visualizing it, we can start our analysis. Let's start with the first step in aberrant splicing detection: the model fitting."
      ]
    },
    {
      "cell_type": "markdown",
      "metadata": {
        "id": "h3pBQc30thTU"
      },
      "source": [
        "\n",
        "### Fitting the splicing model\n",
        "\n",
        "During the fitting procedure, we will normalize the splicing data and correct for confounding effects by using a denoising autoencoder. Using the correct dimension for the latent space is crucial to have the best performance. Finding the right dimension can be done with `optimHyperParams()`."
      ]
    },
    {
      "cell_type": "code",
      "metadata": {
        "id": "ZEBXzaoOQ070"
      },
      "source": [
        "# use BiocParallel to compute in parallel\n",
        "register(MulticoreParam(workers=2, tasks=10, progressbar=TRUE))\n",
        "\n",
        "## As this step is heavy to compute, we will use a prefitted model.\n",
        "## If you use your own data please uncomment it and run it.\n",
        "## It can take 30 minutes to complete depending on the sample/gene size.\n",
        "fds <- readRDS(\"splicing/fitted_fds.RDS\")\n",
        "\n",
        "## Find the optimal dimension for the latent space\n",
        "#for(i in psiType){\n",
        "#    fds <- optimHyperParams(fds, i)\n",
        "#    bestQ(fds, i)\n",
        "#    plotEncDimSearch(fds, i)\n",
        "#}\n",
        "\n",
        "## fit the FRASER model\n",
        "#fds <- FRASER(fds)"
      ],
      "execution_count": null,
      "outputs": []
    },
    {
      "cell_type": "markdown",
      "metadata": {
        "id": "0qLLcEvET6QX"
      },
      "source": [
        "Let's see how well the correction worked by looking at the correlation heatmap again."
      ]
    },
    {
      "cell_type": "code",
      "metadata": {
        "id": "jLqkLPNjWfUm"
      },
      "source": [
        "plotCountCorHeatmap(fds, type=\"psi5\", normalized=TRUE, logit=TRUE, topN=15000, \n",
        "        annotation_col=c(\"SEX\", \"LAB\", \"ORIGIN\"), sampleClustering=NA)"
      ],
      "execution_count": null,
      "outputs": []
    },
    {
      "cell_type": "markdown",
      "metadata": {
        "id": "fXLx33RpWH3C"
      },
      "source": [
        "### Calling splicing outliers\n",
        "\n",
        "For aberrant splicing detection, we assume a beta binomial distribution and call outliers based on the significance level. But again the user can choose between a p value cutoff, a Z score cutoff or both. We do recommend to use a pure p value cutoff.\n",
        "\n",
        "Let's have a look how many splicing outliers we detect by sample."
      ]
    },
    {
      "cell_type": "code",
      "metadata": {
        "id": "LlEnnQ7RWG0-"
      },
      "source": [
        "plotAberrantPerSample(fds)"
      ],
      "execution_count": null,
      "outputs": []
    },
    {
      "cell_type": "markdown",
      "metadata": {
        "id": "KwZgc1tmu8Vz"
      },
      "source": [
        "Again, before we extract the results let's add the interpretable HGNC symbols. *FRASER* comes already with an annotation function. The function uses a user provided TxDb object (defaults to *UCSC.hg19*) to overlap the genomic ranges with the known HGNC symbols. "
      ]
    },
    {
      "cell_type": "code",
      "metadata": {
        "id": "fiTBJnbPWmfS"
      },
      "source": [
        "# annotate\n",
        "fds <- annotateRangesWithTxDb(fds)\n",
        "\n",
        "# retrive results\n",
        "register(SerialParam())\n",
        "res <- as.data.table(results(fds))\n",
        "res"
      ],
      "execution_count": null,
      "outputs": []
    },
    {
      "cell_type": "markdown",
      "metadata": {
        "id": "hoY5l_ia5SY5"
      },
      "source": [
        "As FRASER tests $\\psi_5$, $\\psi_3$ and $\\theta$, it can reports multiple hits for the same event. This is helpful later when interprating the results. But of a first overview this can be overwhelming. Hence, we suggest to aggregrate the results first at the gene level before going into details."
      ]
    },
    {
      "cell_type": "code",
      "metadata": {
        "id": "wKKppQd16jUV"
      },
      "source": [
        "# convert back to GRange object\n",
        "resAsGR <- makeGRangesFromDataFrame(res, keep.extra.columns = TRUE)\n",
        "\n",
        "# group results by genes/sample\n",
        "results_by_genes <- as.data.table(resultsByGenes(resAsGR))\n",
        "results_by_genes"
      ],
      "execution_count": null,
      "outputs": []
    },
    {
      "cell_type": "markdown",
      "metadata": {
        "id": "DqstThffyjWm"
      },
      "source": [
        "## Finding splicing candidates in a patient\n",
        "\n",
        "We worked already with the following patient: **NA11918**, in whom we found downregulation of **TIMMDC1**.\n",
        "\n",
        "Let's see if we also got some splicing candidates for the same sample."
      ]
    },
    {
      "cell_type": "code",
      "metadata": {
        "id": "aNezVDY93-8P"
      },
      "source": [
        "# Make the plotting area smaller again\n",
        "options(repr.plot.width=4, repr.plot.height=4)\n",
        "\n",
        "plotVolcano(fds, type=\"psi5\", \"NA11918\")"
      ],
      "execution_count": null,
      "outputs": []
    },
    {
      "cell_type": "markdown",
      "metadata": {
        "id": "EeDrKfor4GBM"
      },
      "source": [
        "Which are the splicing events in detail? Do they fit with our previous candidate? "
      ]
    },
    {
      "cell_type": "code",
      "metadata": {
        "id": "JH4Tg5fqX8ts"
      },
      "source": [
        "res[sampleID == \"NA11918\"]"
      ],
      "execution_count": null,
      "outputs": []
    },
    {
      "cell_type": "markdown",
      "metadata": {
        "id": "XM7SrNMyzaVO"
      },
      "source": [
        "Since we do detect the same gene again (found significantly down regulated), let's have a look at the junction level."
      ]
    },
    {
      "cell_type": "code",
      "metadata": {
        "id": "p7L6JiynYO5Q"
      },
      "source": [
        "plotExpression(fds, type=\"psi5\", result=res[sampleID == \"NA11918\" & hgncSymbol == \"TIMMDC1\"][1])"
      ],
      "execution_count": null,
      "outputs": []
    },
    {
      "cell_type": "markdown",
      "metadata": {
        "id": "_Z2KJXeG4rqD"
      },
      "source": [
        "Finding the same gene through two different approaches increases the confidence in the event. Further, it gives clues on the mechanism of the event (eg. NMD through alternative isoforms). But further investigations of causal variants are needed."
      ]
    },
    {
      "cell_type": "markdown",
      "metadata": {
        "id": "3Zxanh4ka0LL"
      },
      "source": [
        "When it comes to a diagnosis, we want to make sure that our call is correct. Hence, we want to look at many metric to boost our confident into the call. Let's make a publication ready figure (except the sashimi plot)."
      ]
    },
    {
      "cell_type": "code",
      "metadata": {
        "id": "TUOoxrByaYBn"
      },
      "source": [
        "# Make the plotting area fit 4 panels\n",
        "options(repr.plot.width=9, repr.plot.height=4)\n",
        "\n",
        "res2plot <- res[sampleID == \"NA11918\" & hgncSymbol == \"TIMMDC1\"][1,]\n",
        "ggarrange(ncol=2,\n",
        "    plotVolcano(fds, type=\"psi5\", \"NA11918\"),\n",
        "    plotExpression(fds, result=res2plot),\n",
        "    plotQQ(fds, result=res2plot),\n",
        "    plotExpectedVsObservedPsi(fds, result=res2plot)\n",
        ")"
      ],
      "execution_count": null,
      "outputs": []
    },
    {
      "cell_type": "code",
      "metadata": {
        "id": "CYmT1oFyd4G5"
      },
      "source": [
        "# Make the plotting area smaller again\n",
        "options(repr.plot.width=4, repr.plot.height=4)"
      ],
      "execution_count": null,
      "outputs": []
    },
    {
      "cell_type": "markdown",
      "metadata": {
        "id": "LFP1izPYb9Vc"
      },
      "source": [
        "## Aberrant Splicing Exercise for later\n",
        "\n",
        "If you want to test the knowledge you gained in this tutorial, you can try to solve this case by yourself.\n",
        "\n",
        "What we know:\n",
        "\n",
        "`NA20505` has an early-onset rare disease and suffers from \n",
        "  * myopathic facies\n",
        "  * cardiac arrhythmias\n",
        "\n",
        "Can you find the disease causing gene for this case?\n",
        "\n",
        "You can check this [paper](https://www.biorxiv.org/content/10.1101/2019.12.18.866830v1) to overlap it with your findings."
      ]
    },
    {
      "cell_type": "code",
      "metadata": {
        "id": "RVRukEcGNX8g"
      },
      "source": [
        "\n",
        "# TODO write your code with some documentation. \n",
        "# To get you started, some questions below\n",
        "\n",
        "# * what are the possible candidates\n",
        "# * what kind of visualization do we have\n",
        "# * have a detailed look at some of the outliers\n",
        "# * can we trust the model fit?\n",
        "# * do we see an overlap with gene expression?\n"
      ],
      "execution_count": null,
      "outputs": []
    },
    {
      "cell_type": "markdown",
      "metadata": {
        "id": "EoGM9c36oiMr"
      },
      "source": [
        "# Mono Allelic Expression\n",
        "\n",
        "For a short introduction to MAE please refer to the [slides](https://docs.google.com/presentation/d/1a7KZ6FXwVmGqF-FMAnz0QTk07WgzRWAbFhSNrUBspIQ/edit?pli=1#slide=id.g64b01c344e_4_388)."
      ]
    },
    {
      "cell_type": "markdown",
      "metadata": {
        "id": "nJwp83WToiMy"
      },
      "source": [
        "## Load the allelic counts\n",
        "---\n",
        "\n",
        "For the MAE analysis we will use the *tMAE* package.\n"
      ]
    },
    {
      "cell_type": "code",
      "metadata": {
        "id": "EfKgy42CoiMy"
      },
      "source": [
        "library(ggplot2)\n",
        "library(data.table)\n",
        "library(tMAE)"
      ],
      "execution_count": null,
      "outputs": []
    },
    {
      "cell_type": "markdown",
      "metadata": {
        "id": "hNSapWcyoiM1"
      },
      "source": [
        "Now we can load the allelic counts. For this tutorial we only use 2 samples and a subset of the variants. \n"
      ]
    },
    {
      "cell_type": "code",
      "metadata": {
        "id": "eQli_QjIV48O"
      },
      "source": [
        "# allelic counts generated using ASEReadCounter\n",
        "allelicCountsFile <- 'https://i12g-gagneurweb.in.tum.de/public/workshops/RNAseq_ASHG19/input_data/mae/allelic_counts.tsv.gz'\n",
        "allelicCounts <- fread(allelicCountsFile)\n",
        "\n",
        "# print data\n",
        "allelicCounts[1:4,]\n",
        "dim(allelicCounts)"
      ],
      "execution_count": null,
      "outputs": []
    },
    {
      "cell_type": "markdown",
      "metadata": {
        "id": "BB3IuqU4mEYc"
      },
      "source": [
        "Check the existing samples in the table."
      ]
    },
    {
      "cell_type": "code",
      "metadata": {
        "id": "JLjx7awCiTI8"
      },
      "source": [
        "print('IDs in table')\n",
        "unique(allelicCounts$MAE_ID)"
      ],
      "execution_count": null,
      "outputs": []
    },
    {
      "cell_type": "markdown",
      "metadata": {
        "id": "3yJjtE_Aj81I"
      },
      "source": [
        "Plot counts of alternative vs reference allele. Which ones would you say are mono-allelically expressed?"
      ]
    },
    {
      "cell_type": "code",
      "metadata": {
        "id": "coDy8veikA0f"
      },
      "source": [
        "ggplot(allelicCounts, aes(refCount+1, altCount+1)) + geom_point() +\n",
        "    geom_abline(slope=1, intercept=0) + \n",
        "    scale_y_log10() + scale_x_log10() + theme_bw()\n"
      ],
      "execution_count": null,
      "outputs": []
    },
    {
      "cell_type": "markdown",
      "metadata": {
        "id": "4m8c3CCMcshl"
      },
      "source": [
        "## Run MAE test\n",
        "---\n",
        "Now we are ready to run the negative binomial test using the `DESeq4MAE` function from the *tMAE* package"
      ]
    },
    {
      "cell_type": "code",
      "metadata": {
        "id": "CUh7t_9AjaxY"
      },
      "source": [
        "resMAE <- DESeq4MAE(allelicCounts, minCoverage = 10)\n",
        "head(resMAE)"
      ],
      "execution_count": null,
      "outputs": []
    },
    {
      "cell_type": "markdown",
      "metadata": {
        "id": "BzO4PvAdceGW"
      },
      "source": [
        "### Determine the number of mono-allelic events\n",
        "\n",
        "We define a variant to be mono-allelically expressed if its p-adjusted < 0.05. Determine how many mono-allelic events there are per sample.\n",
        "\n",
        "\n"
      ]
    },
    {
      "cell_type": "code",
      "metadata": {
        "id": "JlqRO2Do8G9J"
      },
      "source": [
        "# Add significant column\n",
        "resMAE[, signif := padj < 0.05]\n",
        "\n",
        "# Get number of cases\n",
        "print('MAE significant variants')\n",
        "resMAE[signif == TRUE, .N, by = MAE_ID]"
      ],
      "execution_count": null,
      "outputs": []
    },
    {
      "cell_type": "markdown",
      "metadata": {
        "id": "wBA-mJXW5VHa"
      },
      "source": [
        "In the rare disease setting, variants that are mono-allelically expressed for the altervative are more interesting. We define them as having a ratio of the alternative $\\ge 0.8$ and an $FDR < 0.05$. \n",
        "\n",
        "Determine how many mono-allelic events for the **alternative** allele there are per sample."
      ]
    },
    {
      "cell_type": "code",
      "metadata": {
        "id": "dUFAnxlU5kSM"
      },
      "source": [
        "# Add column for significant mono-allelic expression of the alternative\n",
        "resMAE[, signif_ALT := signif == TRUE & altRatio >= 0.8]\n",
        "\n",
        "# Get number of cases\n",
        "print('MAE for the alternative significant variants')\n",
        "resMAE[signif_ALT == TRUE, .N, by = MAE_ID]"
      ],
      "execution_count": null,
      "outputs": []
    },
    {
      "cell_type": "markdown",
      "metadata": {
        "id": "jlBjyEnfE-C7"
      },
      "source": [
        "## Find rare variants and integrate them to results\n",
        "---\n",
        "Add minor allele frequencies from [gnomAD](https://gnomad.broadinstitute.org/). The following code snippet requires the gnomAD libraries to be downloaded which are ~5GB each as they contain the minor allele frequencies of the whole genome. Therefore, we will not execute it here, but simply read the results object with annotated allele frequencies."
      ]
    },
    {
      "cell_type": "code",
      "metadata": {
        "id": "9tvMsA-sGhpb"
      },
      "source": [
        "## If your data is based on assembly hg37\n",
        "# library(MafDb.gnomAD.r2.1.hs37d5)\n",
        "# mafdb <- MafDb.gnomAD.r2.1.hs37d5\n",
        "\n",
        "## If your data is based on assembly hg38\n",
        "# library(MafDb.gnomAD.r2.1.GRCh38)\n",
        "# mafdb <- MafDb.gnomAD.r2.1.GRCh38\n",
        "\n",
        "## convert results table into GRanges object\n",
        "# rng <- GRanges(seqnames = data$contig, \n",
        "#               ranges = IRanges(start = data$position, end = data$position), \n",
        "#               strand = '*')\n",
        "# resMAE$gnomadAF <- gscores(mafdb, rng)$AF\n"
      ],
      "execution_count": null,
      "outputs": []
    },
    {
      "cell_type": "markdown",
      "metadata": {
        "id": "ajs9vO3kGVeu"
      },
      "source": [
        "Read the annotated results. How many rare variants are there?"
      ]
    },
    {
      "cell_type": "code",
      "metadata": {
        "id": "BQ9TOc1NHo4g"
      },
      "source": [
        "# Merge results with annotation object\n",
        "resAnnot <- fread('https://i12g-gagneurweb.in.tum.de/public/workshops/RNAseq_ASHG19/input_data/mae/mae_annotated_results.tsv.gz')\n",
        "\n",
        "resAnnot[, rare := (gnomadAF <= 0.01 | is.na(gnomadAF))]\n",
        "print('Number of rare events in total (including non significant variants)')\n",
        "resAnnot[rare == TRUE, .N]\n"
      ],
      "execution_count": null,
      "outputs": []
    },
    {
      "cell_type": "markdown",
      "metadata": {
        "id": "BAcYfGGcn8Q2"
      },
      "source": [
        "Which are the rare mono-allelic events of these 2 samples?"
      ]
    },
    {
      "cell_type": "code",
      "metadata": {
        "id": "o3p82qNRkhmP"
      },
      "source": [
        "resAnnot[signif_ALT == TRUE & rare == TRUE]"
      ],
      "execution_count": null,
      "outputs": []
    },
    {
      "cell_type": "markdown",
      "metadata": {
        "id": "0pDVhzNMlDiR"
      },
      "source": [
        "Visualize them using the `plotAllelicCounts` function from the *tMAE* pkg."
      ]
    },
    {
      "cell_type": "code",
      "metadata": {
        "id": "Tcfq4Nx2lFG1"
      },
      "source": [
        "sample1 <- 'HG00106'\n",
        "plotAllelicCounts(resAnnot[MAE_ID == sample1], \n",
        "        rare_column = 'rare', title = sample1) +\n",
        "    theme(legend.position=\"bottom\")\n"
      ],
      "execution_count": null,
      "outputs": []
    },
    {
      "cell_type": "code",
      "metadata": {
        "id": "YSZD-KbZlQUy"
      },
      "source": [
        "sample2 <- 'HG00111'\n",
        "plotAllelicCounts(resAnnot[MAE_ID == sample2], \n",
        "        rare_column = 'rare', title = sample2) + \n",
        "    theme(legend.position=\"bottom\")"
      ],
      "execution_count": null,
      "outputs": []
    },
    {
      "cell_type": "markdown",
      "metadata": {
        "id": "UT4bGtbpqE39"
      },
      "source": [
        "After running the test and adding minor allele frequencies for all the 100 samples in the data set, we obtained the following results for each filter:\n",
        "\n",
        "<img src=\"https://github.com/c-mertes/RNAseq-ASHG19/raw/master/src/cascade_plot.png\" alt=\"no image\" width=\"400\"/>"
      ]
    },
    {
      "cell_type": "markdown",
      "metadata": {
        "id": "m3Kky_BIo7Qg"
      },
      "source": [
        "For further validation, obtain the gene and consequence of the variant from the annotated VCF file (more info on next section)."
      ]
    },
    {
      "cell_type": "markdown",
      "metadata": {
        "id": "8yAm0Ar3qVEQ"
      },
      "source": [
        "# Gene prioritization\n",
        "\n",
        "\n",
        "**It is not uncommon to have more than one candidate outlier gene when looking at expression, splicing or allele specific events. It is useful to know that there are ways to prioritize those genes.\n",
        "Here, we will see how coming back to phenotype and genotype data can help reduce the list of candidates in a case-informed way.** \n",
        "\n",
        "Because of time constraint, we will focus on an example with genes obtained from expression outliers. In real life, you can apply the same strategy to other types of candidates, such as splicing or MAE outliers. \n",
        "\n",
        "\n"
      ]
    },
    {
      "cell_type": "markdown",
      "metadata": {
        "id": "VJXOmXryqVEY"
      },
      "source": [
        "## Set up working session\n",
        "---\n",
        "\n",
        "First a few packages need to be loaded. \\\\\n",
        "(1) [VariantAnnotation](https://bioconductor.org/packages/release/bioc/html/VariantAnnotation.html): annotate variants, compute amino acid coding changes, predict coding outcomes. \\\\\n",
        "(2) [TVTB](https://bioconductor.org/packages/release/bioc/html/TVTB.html) (The VCF ToolBox): filter, summarize and visualize genetic variation data stored in VCF files. \\\\\n",
        "(3) [annotables](https://github.com/stephenturner/annotables): annotating/converting Gene IDs. \\\\\n",
        "(4) [tidyverse](https://www.tidyverse.org/): collection of packages designed for data science \\\\\n",
        "(5) [data.table](https://cran.r-project.org/web/packages/data.table/vignettes/datatable-intro.html): data manipulation operations "
      ]
    },
    {
      "cell_type": "code",
      "metadata": {
        "id": "y4wIEjCdqVEZ"
      },
      "source": [
        "library(VariantAnnotation)\n",
        "library(TVTB)\n",
        "library(annotables)\n",
        "library(ensemblVEP)\n",
        "library(tidyverse)\n",
        "library(data.table)"
      ],
      "execution_count": null,
      "outputs": []
    },
    {
      "cell_type": "markdown",
      "metadata": {
        "id": "5AG0QkB_qVEd"
      },
      "source": [
        "\n",
        "\n",
        "## Case 1\n",
        "This boy was the third child of healthy non-consanguineous French parents. Pregnancy and delivery were uneventful. Early psychomotor development was normal. However, speech development was delayed, acquiring language at the age of 4. At 11, he began to experience psychomotor regression and progressive visual loss. At current (by the time of the publication) age of 47, he has severe walking difficulties, blindness, abnormal behaviour (easily frightened, sometimes aggressive) and spontaneous speech.\n",
        "\n",
        "In our dataset, this sample is named **NA11918**.\n",
        "\n",
        "### Get list of candidate genes from OUTRIDER\n",
        "We download the list of outlier gene that was generated using OUTRIDER in an earlier session."
      ]
    },
    {
      "cell_type": "code",
      "metadata": {
        "id": "YahVKb-EqVEd"
      },
      "source": [
        "# Download list of candidates\n",
        "results_link=\"https://i12g-gagneurweb.in.tum.de/public/workshops/RNAseq_ASHG19/input_data/outrider/results_pvalue.tsv.gz\"\n",
        "outrider_results_genes=fread(results_link)\n",
        "\n",
        "# Filter for the case of interest\n",
        "outrider_results_genes=outrider_results_genes %>%\n",
        "        filter(sampleID==\"NA11918\") %>%\n",
        "        select(geneID) %>%\n",
        "        unlist\n",
        "\n",
        "# Take a look at what the genes list look like\n",
        "head(outrider_results_genes)\n",
        "\n",
        "# Get the number of candidate genes for that case\n",
        "print(\"The total number of candidate genes within this case:\")\n",
        "length(outrider_results_genes)\n"
      ],
      "execution_count": null,
      "outputs": []
    },
    {
      "cell_type": "markdown",
      "metadata": {
        "id": "RUcP3hHvP866"
      },
      "source": [
        "You can see that the gene names are not totally in an Ensembl format. The number you see corresponds to a version of the annotation.\n",
        "The gene names need to be reformated so that we keep only the official gene name in our analyses.\n",
        "\n",
        "\n",
        "We also see that we have 22 candidate genes."
      ]
    },
    {
      "cell_type": "code",
      "metadata": {
        "id": "rQeXEskjQEk8"
      },
      "source": [
        "# Modify gene format\n",
        "outrider_results_genes=str_extract(outrider_results_genes, \"ENSG[0-9]+\")\n",
        "\n",
        "\n",
        "# Look at the changes\n",
        "head(outrider_results_genes)\n"
      ],
      "execution_count": null,
      "outputs": []
    },
    {
      "cell_type": "markdown",
      "metadata": {
        "id": "-2Y9fpquSE9L"
      },
      "source": [
        "Now that the gene name corresponds to the official Ensembl symbols, it is possible to get more information on those. \n",
        "In particular we can easily obtain their symbol and description using the package ` annotable `.\n"
      ]
    },
    {
      "cell_type": "code",
      "metadata": {
        "id": "7pvzOio8SLk1"
      },
      "source": [
        "# Query annotable Grch37 object and keep only genes that are in the list of outliers\n",
        "candidate_genes=grch37 %>% filter(ensgene %in% outrider_results_genes)\n",
        "\n",
        "# Look at the results\n",
        "head(candidate_genes)"
      ],
      "execution_count": null,
      "outputs": []
    },
    {
      "cell_type": "markdown",
      "metadata": {
        "id": "PEZN3AVWQcIU"
      },
      "source": [
        "We now have the list of candidate genes and more information on what they are. We are ready to filter this list to keep only the genes that are linked to the symptoms of the case of interest.\n",
        "\n",
        "In our case, the symptoms are:\n",
        "* Developmental regression ([HP:0002376](https://hpo.jax.org/app/browse/term/HP:0002376))\n",
        "* Ataxia([HP:0001251](https://hpo.jax.org/app/browse/term/HP:0001251))\n",
        "* Ophthalmoplegia ([HP:0000602](https://hpo.jax.org/app/browse/term/HP:0000602))\n",
        "* Visual impairment ([HP:0000505](https://hpo.jax.org/app/browse/term/HP:0000505))\n",
        "\n",
        "\n",
        "As you can see, there is an ID beside each symptom. Those are HPO term IDs, as found in the Human Phenotype Ontology [database](https://hpo.jax.org/app/).\n"
      ]
    },
    {
      "cell_type": "markdown",
      "metadata": {
        "id": "BMBlQOojqVEm"
      },
      "source": [
        "### Annotate candidate genes with HPO terms\n",
        "#### Read in sample phenotype metadata\n"
      ]
    },
    {
      "cell_type": "code",
      "metadata": {
        "id": "LGDvfU0qqVEn"
      },
      "source": [
        "# We define the list of HPO terms for the case\n",
        "sample_HPO=c(\"HP:0002376\",\"HP:0001251\", \"HP:0000602\",\"HP:0000505\")\n",
        "\n",
        "sample_HPO"
      ],
      "execution_count": null,
      "outputs": []
    },
    {
      "cell_type": "markdown",
      "metadata": {
        "id": "hlNnFjkgqVEp"
      },
      "source": [
        "#### Load gene to HPO ID file from HPO database \n",
        "The Human Phenotype Ontology gives access to a very useful file, showing the link between symptoms and genes. This file is updated regularly so we recommend to **download the latest version** whenever possible.\n",
        "\n",
        "You can download this file [here](http://compbio.charite.de/jenkins/job/hpo.annotations.monthly/lastStableBuild/artifact/annotation/ALL_SOURCES_FREQUENT_FEATURES_phenotype_to_genes.txt)."
      ]
    },
    {
      "cell_type": "code",
      "metadata": {
        "id": "NvVQom5fvSyz"
      },
      "source": [
        "\n",
        "# Get the file URL\n",
        "hpo_annotations_url =\"http://compbio.charite.de/jenkins/job/hpo.annotations.monthly/lastStableBuild/artifact/annotation/ALL_SOURCES_FREQUENT_FEATURES_phenotype_to_genes.txt\"\n",
        "\n",
        "# Read the file\n",
        "gene_hpo <-fread(hpo_annotations_url, skip=1)\n",
        "\n",
        "# Select only the columns of interest (Gene and HPO term)\n",
        "gene_hpo <- gene_hpo[, c(4, 1)]\n",
        "colnames(gene_hpo) <- c(\"Gene\", \"Term\")\n",
        "\n",
        "# Look at the results\n",
        "head(gene_hpo)"
      ],
      "execution_count": null,
      "outputs": []
    },
    {
      "cell_type": "markdown",
      "metadata": {
        "id": "Mx3FxTvUclS1"
      },
      "source": [
        "#### Get a subset of genes that could match the symptoms\n",
        "Now that we have downloaded that file, we want to keep only the genes that are phenotypically relevant to the case.\n",
        "\n",
        "1. Filter for HPO terms corresponding to the case\n",
        "2. Obtain the Ensembl IDs for the genes that are associated to those HPO terms\n"
      ]
    },
    {
      "cell_type": "code",
      "metadata": {
        "id": "N2vn-AS-ZzG5"
      },
      "source": [
        "# Get list of genes corresponding to the case symptoms.\n",
        "genes_hpo_case=gene_hpo %>% \n",
        "        filter(Term %in% sample_HPO) %>% \n",
        "        left_join(grch37,by=c(\"Gene\"=\"symbol\"))\n",
        "genes_hpo_case=genes_hpo_case %>% \n",
        "        select(ensgene) %>% \n",
        "        unique %>% \n",
        "        unlist\n",
        "head(genes_hpo_case)"
      ],
      "execution_count": null,
      "outputs": []
    },
    {
      "cell_type": "markdown",
      "metadata": {
        "id": "5MxWC6OznCOo"
      },
      "source": [
        "`genes_hpo_case` contains the Ensembl IDs of genes associated with HPO terms for the case."
      ]
    },
    {
      "cell_type": "markdown",
      "metadata": {
        "id": "2T5lbU7Qsdwb"
      },
      "source": [
        "You can quicly check how many genes are currently linked with the symptoms of your case of interest."
      ]
    },
    {
      "cell_type": "code",
      "metadata": {
        "id": "syt-E_WpsoNa"
      },
      "source": [
        "# Get number of genes linked to case symptoms\n",
        "length(genes_hpo_case)"
      ],
      "execution_count": null,
      "outputs": []
    },
    {
      "cell_type": "markdown",
      "metadata": {
        "id": "j3d-6V9lstnN"
      },
      "source": [
        "There are 1,519 genes that could match some of the patient's symtoms."
      ]
    },
    {
      "cell_type": "markdown",
      "metadata": {
        "id": "3Cv3DM7CIpT5"
      },
      "source": [
        "\n",
        "\n",
        "---\n",
        "\n",
        "\n",
        "\n",
        "#### Subset the list of genes to outlier candidates \n",
        "Here the assumption is that if there is an expression perturbation on the causal gene, this gene is somehow linked to some of the symptoms of the patient.\\\n",
        "So we want to **filter** the list of genes somehow linked to the patients symptoms (listed in `genes_hpo_case`) for the one obtained as candidates in previous work.\n"
      ]
    },
    {
      "cell_type": "code",
      "metadata": {
        "id": "Bx52R3KeekgA"
      },
      "source": [
        "# Filter outlier genes for genes linked to the phenotype.\n",
        "candidate_genes.hpo=candidate_genes %>% filter(ensgene %in% genes_hpo_case)\n",
        "\n",
        "# Get the number of genes left\n",
        "cat(\"The number of outlier genes left after filtering associated with the disease:\")\n",
        "length(candidate_genes.hpo$ensgene)\n",
        "\n",
        "# Take a look at the results\n",
        "candidate_genes.hpo"
      ],
      "execution_count": null,
      "outputs": []
    },
    {
      "cell_type": "markdown",
      "metadata": {
        "id": "bzkKSVL9-ldj"
      },
      "source": [
        "As you can see, the list of potential genes is now much reduced. We dropped from 22 candidates to 2 genes, [*MCOLN1*](https://www.genecards.org/cgi-bin/carddisp.pl?gene=MCOLN1) and [*DNMT3A*](https://www.genecards.org/cgi-bin/carddisp.pl?gene=DNMT3A)."
      ]
    },
    {
      "cell_type": "markdown",
      "metadata": {
        "id": "FJmbrV2ruJK_"
      },
      "source": [
        "\n",
        "---\n",
        "\n",
        "---\n",
        "\n",
        "### Annotate with variant information\n",
        "\n",
        "We can go further and annotate our candidate with the variant information for the case.\n",
        "\n",
        "To do so, we need to transform the candidate gene list into the right format so that we can use the genes when reading in the [VCF](https://www.internationalgenome.org/wiki/Analysis/Variant%20Call%20Format/vcf-variant-call-format-version-40/) file in R.\n",
        "\n",
        "#### Build a GRanges object with the genes obtain in previous steps\n",
        "We use R packages that have been developped to handle and filter VCF files. \n",
        "Here, we want to upload only the part of the VCF file that is in regions of interest (i.e., our candidate genes). We can do this by giving as an input an object of type [GRanges](https://web.mit.edu/~r/current/arch/i386_linux26/lib/R/library/GenomicRanges/html/GRanges-class.html).\n",
        "\n",
        "\n",
        "The next steps are transforming our list of candidate genes to the right format so that we can proceed with the analysis.\n",
        "\n",
        "1. Change the start and end position to include potential regulatory regions (+/- 1kb here).\n",
        "Note that you can customize this distance or use the gene coordinates.\n"
      ]
    },
    {
      "cell_type": "code",
      "metadata": {
        "id": "ji6EDKN7fGjN"
      },
      "source": [
        "# Extending the start/end coordinates to 1kb around the gene of interest \n",
        "candidate_genes=candidate_genes.hpo %>% \n",
        "        mutate(new_start=pmin(start,end)-1e3, new_end=pmax(start,end)+1e3)\n",
        "\n",
        "# Take a look at the results\n",
        "head(candidate_genes)"
      ],
      "execution_count": null,
      "outputs": []
    },
    {
      "cell_type": "markdown",
      "metadata": {
        "id": "tENjxDleoUbF"
      },
      "source": [
        "2. Transform data frame into GRanges object"
      ]
    },
    {
      "cell_type": "code",
      "metadata": {
        "id": "JGNob8EEdvk1"
      },
      "source": [
        "# Create a GRanges Object\n",
        "candidate_genes.gr=makeGRangesFromDataFrame(\n",
        "        candidate_genes, ignore.strand=TRUE,\n",
        "        start.field=\"new_start\",end.field=\"new_end\")\n",
        "\n",
        "# Add gene names to GRanges object\n",
        "names(candidate_genes.gr)=candidate_genes$ensgene\n",
        "\n",
        "candidate_genes.gr"
      ],
      "execution_count": null,
      "outputs": []
    },
    {
      "cell_type": "markdown",
      "metadata": {
        "id": "BWZ2ubNnJeYO"
      },
      "source": [
        "#### Load the vcf file\n",
        "Now that we have the coordinates of the candidate genes in the right format, we can process the VCF file.\n",
        "\n",
        "For the purpose of this workshop, the VCF file needs to be annotate with [Variant Effect Predictor](https://uswest.ensembl.org/info/docs/tools/vep/index.html) (VEP), which determines the effect of the variants on genes.\n",
        "\n",
        "Here, we take a subset of the VCF file from the 1000 Genomes Project in which we have injected variants of interest.\n"
      ]
    },
    {
      "cell_type": "code",
      "metadata": {
        "id": "r9LsngskpxHD"
      },
      "source": [
        "# VEP annotated VCF file\n",
        "vcfFile <- \"./variants/1000G_subset_exome.vep.vcf.gz\"\n",
        "\n",
        "# index the VCF file\n",
        "indexVcf(vcfFile)\n",
        "\n",
        "# create a reference \n",
        "vcfFile <- TabixFile(vcfFile)\n",
        "vcfFile"
      ],
      "execution_count": null,
      "outputs": []
    },
    {
      "cell_type": "markdown",
      "metadata": {
        "id": "YL6GMhEE5uu0"
      },
      "source": [
        "\n",
        "#### Read in VCF file of the sample of interest\n",
        "Here, only the sample of interest and variants overlapping the genes of interest will be looked at.\n"
      ]
    },
    {
      "cell_type": "code",
      "metadata": {
        "id": "Ab_yUpCb54L4"
      },
      "source": [
        "# Create parameter file to read only the data for the case and around candidate genes\n",
        "params=ScanVcfParam(samples=\"NA11918\", which=candidate_genes.gr)\n",
        "\n",
        "# Read in VCF file filtering data using the parameter file we just created\n",
        "vcf_rng <- readVcf(vcfFile, \"hg19\", params)\n",
        "head(rowRanges(vcf_rng), 3)"
      ],
      "execution_count": null,
      "outputs": []
    },
    {
      "cell_type": "markdown",
      "metadata": {
        "id": "s1a-Kz7FFMfu"
      },
      "source": [
        "#### Filter for Heterozygous or Homozygous Alt and genes of interest\n",
        "The VCF contains genotypes for sites that are homozygous for the reference allele. As we are not interested in those we filter them out.\n",
        "We also make sure that we are looking only at the variants that are annotated for the genes of interest and not genes nearby."
      ]
    },
    {
      "cell_type": "code",
      "metadata": {
        "id": "mpO3ZHs1pSpw"
      },
      "source": [
        "candidate_genes"
      ],
      "execution_count": null,
      "outputs": []
    },
    {
      "cell_type": "code",
      "metadata": {
        "id": "kVA8nZtNFWWX"
      },
      "source": [
        "# Create a filter on variants het or homozygous alt\n",
        "Hetfilt <- FilterRules(list(HetorHomAlt = \n",
        "        function(x) geno(x)$GT %in% c(\"0|1\", \"1|1\", \"1|0\")))\n",
        "\n",
        "# Create a filter to keep only candidate gene annotations\n",
        "GeneFilt<-VcfVepRules(exprs = list(Cand_genes = \n",
        "        bquote(SYMBOL %in% .(candidate_genes$symbol) )))                            \n",
        "\n",
        "# Combine those filters\n",
        "combinedPreFilters <- VcfFilterRules(\n",
        "    Hetfilt, \n",
        "    GeneFilt)\n",
        "                            \n",
        "# Apply them on the vcf\n",
        "vcf_het_cand <- subsetByFilter(vcf_rng, combinedPreFilters)\n",
        "\n",
        "rowRanges(vcf_het_cand)"
      ],
      "execution_count": null,
      "outputs": []
    },
    {
      "cell_type": "markdown",
      "metadata": {
        "id": "VsV33kgc7rYX"
      },
      "source": [
        "#### Get consequence field\n",
        "In order to see the potential features we can filter on, let's take a look at the consequence field of the VCF."
      ]
    },
    {
      "cell_type": "code",
      "metadata": {
        "id": "MRu35kaO7t64"
      },
      "source": [
        "# Parse the consequence field of the VCF\n",
        "csq <- parseCSQToGRanges(x=vcf_het_cand, VCFRowID=rownames(vcf_het_cand))\n",
        "csq[, c(\"Consequence\", \"SYMBOL\", \"BIOTYPE\", \"gnomAD_AF\", \"CADD_PHRED\")]"
      ],
      "execution_count": null,
      "outputs": []
    },
    {
      "cell_type": "markdown",
      "metadata": {
        "id": "InQWGQnp7-HE"
      },
      "source": [
        "\n",
        "\n",
        "#### Define a set of filters\n",
        "\n",
        "We can create a set of filters that we want to apply on our data, such as distance to transcription start site, allele frequency, [CADD score](https://cadd.gs.washington.edu/), [VEP consequences](https://uswest.ensembl.org/info/genome/variation/prediction/predicted_data.html), etc. You can customize this and add as many filters as you want."
      ]
    },
    {
      "cell_type": "code",
      "metadata": {
        "id": "2yvxaNn88DDO"
      },
      "source": [
        "\n",
        "# Filter on distance to the gene\n",
        "vepDistFilter <- VcfVepRules(exprs=list(Distance=expression(DISTANCE <= 1000)))\n",
        "\n",
        "# Filter on allele frequency\n",
        "# Here we allow NAs because some variants are uniq to the individual and hence\n",
        "# not listed in any public database (eg. gnomAD)\n",
        "vepMAFFilter<- VcfVepRules(exprs = list(MAF = \n",
        "        expression(as.numeric(gnomAD_AF) <= 0.01 || gnomAD_AF == \"NA\")))\n",
        "\n",
        "# Filter on CADD score\n",
        "vepCADDFilter <- VcfVepRules(exprs = list(CADD=expression(CADD_PHRED >= 20)))\n",
        "\n",
        "# Filter on consequences\n",
        "highImpactVariant<-VcfVepRules(exprs=list(BigImpact=\n",
        "        expression(grepl(x=Consequence, pattern=paste(collapse=\"|\", c(\n",
        "                \"splice_acceptor_variant\", \"splice_donor_variant\", \n",
        "                \"stop_gained\", \"stop_lost\",\"frameshift_variant\"))))))\n",
        "\n",
        "regulatoryVariant<-VcfVepRules(exprs=list(RegVar=\n",
        "        expression(grepl(x=Consequence, pattern=paste(collapse=\"|\", c(\n",
        "                \"5_prime_UTR_variant\", \"3_prime_UTR_variant\", \"intron_variant\",\n",
        "                \"NMD_transcript_variant\", \"upstream_gene_variant\", \n",
        "                \"downstream_gene_variant\"))))))\n",
        "\n",
        "combinedFilters <- VcfFilterRules(\n",
        "  vepDistFilter,\n",
        "  vepMAFFilter,\n",
        "  vepCADDFilter, \n",
        "  highImpactVariant,\n",
        "  regulatoryVariant)"
      ],
      "execution_count": null,
      "outputs": []
    },
    {
      "cell_type": "markdown",
      "metadata": {
        "id": "w7Ap1-eQ8MFZ"
      },
      "source": [
        "You can play and add or remove filters"
      ]
    },
    {
      "cell_type": "code",
      "metadata": {
        "id": "gk4m1EUW8OIF"
      },
      "source": [
        "# Look at active filters\n",
        "active(combinedFilters)"
      ],
      "execution_count": null,
      "outputs": []
    },
    {
      "cell_type": "markdown",
      "metadata": {
        "id": "2BEkjKGRMd2U"
      },
      "source": [
        "We focus only on **rare** variants"
      ]
    },
    {
      "cell_type": "code",
      "metadata": {
        "id": "RgeHOMsj8RhZ"
      },
      "source": [
        "active(combinedFilters)[\"BigImpact\"] <- FALSE\n",
        "active(combinedFilters)[\"RegVar\"] <- FALSE\n",
        "active(combinedFilters)[\"Distance\"] <- FALSE\n",
        "active(combinedFilters)[\"CADD\"] <- FALSE\n",
        "\n",
        "active(combinedFilters)[\"MAF\"] <- TRUE\n",
        "\n",
        "active(combinedFilters)"
      ],
      "execution_count": null,
      "outputs": []
    },
    {
      "cell_type": "markdown",
      "metadata": {
        "id": "cLYAwOIV8Ws_"
      },
      "source": [
        "#### Apply set of filters"
      ]
    },
    {
      "cell_type": "code",
      "metadata": {
        "id": "aBepEGyJ8WS0"
      },
      "source": [
        "# subset VCF with active filters\n",
        "vcf_filt <- subsetByFilter(vcf_het_cand, combinedFilters)\n",
        "\n",
        "csq_filt <- ensemblVEP::parseCSQToGRanges(x = vcf_filt)\n",
        "\n",
        "unique(csq_filt[,c(\"Consequence\", \"SYMBOL\", \"BIOTYPE\", \"gnomAD_AF\",\"CADD_PHRED\")])"
      ],
      "execution_count": null,
      "outputs": []
    },
    {
      "cell_type": "markdown",
      "metadata": {
        "id": "ro4UehRPZrBv"
      },
      "source": [
        "There are only two rare variants in our example. They are both in the same gene, *MCOLN1* which was previously involved in a [disorder](https://www.omim.org/entry/252650#title) linked to ophthalmologic abnormalities, difficulty to speak, slow development. This gene looks like a very good candidate for our case. The presence of those two mutations, one leading to an intron retention and the other one leading to a stop codon are good candidates.\n",
        "\n",
        "In order to see how many variants are left after each filter, you can use the following command. Please note that filters that are not active will have no effect on the initial number of variants.\n",
        "\n"
      ]
    },
    {
      "cell_type": "code",
      "metadata": {
        "id": "wsvLss7J8WQ6"
      },
      "source": [
        "# Look at number of variants left for each set of filters\n",
        "summary(evalSeparately(expr=combinedFilters, envir=vcf_het_cand))\n"
      ],
      "execution_count": null,
      "outputs": []
    },
    {
      "cell_type": "markdown",
      "metadata": {
        "id": "fpjZ9tsMjlxz"
      },
      "source": [
        "\n",
        "\n",
        "---\n",
        "\n",
        "\n",
        "\n",
        "---\n",
        "\n",
        "\n",
        "\n",
        "## Playground Case 2\n",
        "You can try to prioritize other genes by looking at this case **HG00132**.\n",
        "\n",
        "\n",
        "~12 yo Hispanic female with global developmental delay after normal development until age 18 months, then loss of milestones, head control, and speech; tremors at 21 months; and seizures at 22 months.  Occasional myoclonus, not correlative to EEG.  Gastrostomy fed.  Scoliosis. Brother similiarly affected.\n",
        "\n",
        "\n",
        "The HPO terms for this case are: HP:0001250,HP:0001298,HP:0002015,HP:0002650,HP:0001263,HP:0002376,HP:0002421,HP:0002371,HP:0001337,HP:0001336,HP:0001260,HP:0003676\n",
        "\n",
        "The results file for splicing outliers is [here](https://i12g-gagneurweb.in.tum.de/public/workshops/RNAseq_ASHG19/input_data/splicing/results_pvalue.tsv.gz)\n",
        "\n",
        "\n",
        "The vcf containg variant infromation for HG00132 is [here](https://i12g-gagneurweb.in.tum.de/public/workshops/RNAseq_ASHG19/input_data/variants/1000G_subset_exome.vep.vcf.gz)\n",
        "\n",
        "\n",
        "This case was solved in this [paper](https://www.nature.com/articles/s41591-019-0457-8)"
      ]
    }
  ]
}